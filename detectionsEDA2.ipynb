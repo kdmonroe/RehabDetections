{
  "nbformat": 4,
  "nbformat_minor": 0,
  "metadata": {
    "kernelspec": {
      "display_name": "Python 3",
      "language": "python",
      "name": "python3"
    },
    "language_info": {
      "codemirror_mode": {
        "name": "ipython",
        "version": 3
      },
      "file_extension": ".py",
      "mimetype": "text/x-python",
      "name": "python",
      "nbconvert_exporter": "python",
      "pygments_lexer": "ipython3",
      "version": "3.6.8"
    },
    "colab": {
      "name": "detectionsEDA2.ipynb",
      "version": "0.3.2",
      "provenance": [],
      "collapsed_sections": [
        "uvUTnqm_Im-p"
      ]
    }
  },
  "cells": [
    {
      "cell_type": "markdown",
      "metadata": {
        "id": "4sRsVMyYIm9l",
        "colab_type": "text"
      },
      "source": [
        "Questions...\n",
        "- Compare with non-rehab birds (all species)\n",
        "    - How many rehab versus non-rehab birds are there? \n",
        "    - How many detections for each?\n",
        "        - Detected rehabs: How many were detected elsewhere (repeat tags)?\n",
        "- Movement \n",
        "    - How many birds are contained within a particular area?\n",
        "    - Map the detections by color (rehab versus not)\n",
        "        - Receivers:\n",
        "            - Which receivers picked up birds?\n",
        "            - Where are those receivers located?\n",
        "\n",
        "Need to determine which tags were picked up twice (to compare movement trends)"
      ]
    },
    {
      "cell_type": "markdown",
      "metadata": {
        "id": "m1nBadbfzf8C",
        "colab_type": "text"
      },
      "source": [
        "## Dependencies"
      ]
    },
    {
      "cell_type": "code",
      "metadata": {
        "id": "oCtWNYECIm9n",
        "colab_type": "code",
        "outputId": "1be0f7e0-906c-4cd0-e66a-cc457607c1fc",
        "colab": {
          "base_uri": "https://localhost:8080/",
          "height": 547
        }
      },
      "source": [
        "!pip install geopandas\n",
        "\n",
        "from matplotlib import pyplot as plt\n",
        "from math import sin, cos, sqrt, atan2, radians\n",
        "import numpy as np\n",
        "import pandas as pd\n",
        "import geopandas as gpd\n",
        "from datetime import datetime\n",
        "from shapely.geometry import Point, MultiPoint\n",
        "from shapely.ops import nearest_points"
      ],
      "execution_count": 2,
      "outputs": [
        {
          "output_type": "stream",
          "text": [
            "Collecting geopandas\n",
            "\u001b[?25l  Downloading https://files.pythonhosted.org/packages/21/80/da2a33c9201cd4ce693f4aa6189efc9ef1a48bec1c3b02c3ce9908b07fec/geopandas-0.5.1-py2.py3-none-any.whl (893kB)\n",
            "\u001b[K     |████████████████████████████████| 901kB 5.1MB/s \n",
            "\u001b[?25hCollecting pyproj (from geopandas)\n",
            "\u001b[?25l  Downloading https://files.pythonhosted.org/packages/e5/fd/eb99d24327e248a5e93cec65eedf22a751f70723384a832837eef1f80509/pyproj-2.2.2-cp36-cp36m-manylinux1_x86_64.whl (11.2MB)\n",
            "\u001b[K     |████████████████████████████████| 11.2MB 42.8MB/s \n",
            "\u001b[?25hRequirement already satisfied: shapely in /usr/local/lib/python3.6/dist-packages (from geopandas) (1.6.4.post2)\n",
            "Requirement already satisfied: pandas in /usr/local/lib/python3.6/dist-packages (from geopandas) (0.24.2)\n",
            "Collecting fiona (from geopandas)\n",
            "\u001b[?25l  Downloading https://files.pythonhosted.org/packages/89/4a/193cd6a75e51062c85f4e1cd6f312b3bbda6e26ba7510f152ef5016f0b16/Fiona-1.8.6-cp36-cp36m-manylinux1_x86_64.whl (17.9MB)\n",
            "\u001b[K     |████████████████████████████████| 17.9MB 24.7MB/s \n",
            "\u001b[?25hRequirement already satisfied: python-dateutil>=2.5.0 in /usr/local/lib/python3.6/dist-packages (from pandas->geopandas) (2.5.3)\n",
            "Requirement already satisfied: pytz>=2011k in /usr/local/lib/python3.6/dist-packages (from pandas->geopandas) (2018.9)\n",
            "Requirement already satisfied: numpy>=1.12.0 in /usr/local/lib/python3.6/dist-packages (from pandas->geopandas) (1.16.4)\n",
            "Collecting munch (from fiona->geopandas)\n",
            "  Downloading https://files.pythonhosted.org/packages/68/f4/260ec98ea840757a0da09e0ed8135333d59b8dfebe9752a365b04857660a/munch-2.3.2.tar.gz\n",
            "Requirement already satisfied: click<8,>=4.0 in /usr/local/lib/python3.6/dist-packages (from fiona->geopandas) (7.0)\n",
            "Requirement already satisfied: attrs>=17 in /usr/local/lib/python3.6/dist-packages (from fiona->geopandas) (19.1.0)\n",
            "Collecting cligj>=0.5 (from fiona->geopandas)\n",
            "  Downloading https://files.pythonhosted.org/packages/e4/be/30a58b4b0733850280d01f8bd132591b4668ed5c7046761098d665ac2174/cligj-0.5.0-py3-none-any.whl\n",
            "Requirement already satisfied: six>=1.7 in /usr/local/lib/python3.6/dist-packages (from fiona->geopandas) (1.12.0)\n",
            "Collecting click-plugins>=1.0 (from fiona->geopandas)\n",
            "  Downloading https://files.pythonhosted.org/packages/e9/da/824b92d9942f4e472702488857914bdd50f73021efea15b4cad9aca8ecef/click_plugins-1.1.1-py2.py3-none-any.whl\n",
            "Building wheels for collected packages: munch\n",
            "  Building wheel for munch (setup.py) ... \u001b[?25l\u001b[?25hdone\n",
            "  Created wheel for munch: filename=munch-2.3.2-py2.py3-none-any.whl size=6613 sha256=351bed14ec89c9b3eb28549b940605d163540e2849c94198e2cde51fdd0a883b\n",
            "  Stored in directory: /root/.cache/pip/wheels/db/bf/bc/06a3e1bfe0ab27d2e720ceb3cff3159398d92644c0cec2c125\n",
            "Successfully built munch\n",
            "Installing collected packages: pyproj, munch, cligj, click-plugins, fiona, geopandas\n",
            "Successfully installed click-plugins-1.1.1 cligj-0.5.0 fiona-1.8.6 geopandas-0.5.1 munch-2.3.2 pyproj-2.2.2\n"
          ],
          "name": "stdout"
        }
      ]
    },
    {
      "cell_type": "code",
      "metadata": {
        "id": "XIQgVnTzJNf5",
        "colab_type": "code",
        "outputId": "0fbf4f45-94eb-456c-fb98-d514093354b5",
        "colab": {
          "base_uri": "https://localhost:8080/",
          "height": 122
        }
      },
      "source": [
        "# 1.2 import for Google Drive - mount \n",
        "# Mount Google Drive to import the spreadsheet\n",
        "from google.colab import drive\n",
        "drive.mount('/gdrive')"
      ],
      "execution_count": 3,
      "outputs": [
        {
          "output_type": "stream",
          "text": [
            "Go to this URL in a browser: https://accounts.google.com/o/oauth2/auth?client_id=947318989803-6bn6qk8qdgf4n4g3pfee6491hc0brc4i.apps.googleusercontent.com&redirect_uri=urn%3Aietf%3Awg%3Aoauth%3A2.0%3Aoob&scope=email%20https%3A%2F%2Fwww.googleapis.com%2Fauth%2Fdocs.test%20https%3A%2F%2Fwww.googleapis.com%2Fauth%2Fdrive%20https%3A%2F%2Fwww.googleapis.com%2Fauth%2Fdrive.photos.readonly%20https%3A%2F%2Fwww.googleapis.com%2Fauth%2Fpeopleapi.readonly&response_type=code\n",
            "\n",
            "Enter your authorization code:\n",
            "··········\n",
            "Mounted at /gdrive\n"
          ],
          "name": "stdout"
        }
      ]
    },
    {
      "cell_type": "code",
      "metadata": {
        "id": "MMDL9KwtJajN",
        "colab_type": "code",
        "outputId": "dd612cf3-70cf-4d01-a835-1cf2b6d05535",
        "colab": {
          "base_uri": "https://localhost:8080/",
          "height": 51
        }
      },
      "source": [
        "# 1.3 import for Google Drive - dependencies\n",
        "# Install the PyDrive wrapper & import libraries.\n",
        "# This only needs to be done once per notebook.\n",
        "!pip install -U -q PyDrive\n",
        "from pydrive.auth import GoogleAuth\n",
        "from pydrive.drive import GoogleDrive\n",
        "from google.colab import auth\n",
        "from oauth2client.client import GoogleCredentials\n",
        "\n",
        "# Authenticate and create the PyDrive client.\n",
        "# This only needs to be done once per notebook.\n",
        "auth.authenticate_user()\n",
        "gauth = GoogleAuth()\n",
        "gauth.credentials = GoogleCredentials.get_application_default()\n",
        "drive = GoogleDrive(gauth)\n",
        "\n",
        "#https://drive.google.com/open?id=1uHkWewXdOeLrIcsFBzT9-v7zezAWmT6-"
      ],
      "execution_count": 4,
      "outputs": [
        {
          "output_type": "stream",
          "text": [
            "\u001b[?25l\r\u001b[K     |▎                               | 10kB 16.5MB/s eta 0:00:01\r\u001b[K     |▋                               | 20kB 3.3MB/s eta 0:00:01\r\u001b[K     |█                               | 30kB 4.7MB/s eta 0:00:01\r\u001b[K     |█▎                              | 40kB 3.0MB/s eta 0:00:01\r\u001b[K     |█▋                              | 51kB 3.7MB/s eta 0:00:01\r\u001b[K     |██                              | 61kB 4.4MB/s eta 0:00:01\r\u001b[K     |██▎                             | 71kB 5.0MB/s eta 0:00:01\r\u001b[K     |██▋                             | 81kB 5.7MB/s eta 0:00:01\r\u001b[K     |███                             | 92kB 6.3MB/s eta 0:00:01\r\u001b[K     |███▎                            | 102kB 4.9MB/s eta 0:00:01\r\u001b[K     |███▋                            | 112kB 4.9MB/s eta 0:00:01\r\u001b[K     |████                            | 122kB 4.9MB/s eta 0:00:01\r\u001b[K     |████▎                           | 133kB 4.9MB/s eta 0:00:01\r\u001b[K     |████▋                           | 143kB 4.9MB/s eta 0:00:01\r\u001b[K     |█████                           | 153kB 4.9MB/s eta 0:00:01\r\u001b[K     |█████▎                          | 163kB 4.9MB/s eta 0:00:01\r\u001b[K     |█████▋                          | 174kB 4.9MB/s eta 0:00:01\r\u001b[K     |██████                          | 184kB 4.9MB/s eta 0:00:01\r\u001b[K     |██████▎                         | 194kB 4.9MB/s eta 0:00:01\r\u001b[K     |██████▋                         | 204kB 4.9MB/s eta 0:00:01\r\u001b[K     |███████                         | 215kB 4.9MB/s eta 0:00:01\r\u001b[K     |███████▎                        | 225kB 4.9MB/s eta 0:00:01\r\u001b[K     |███████▋                        | 235kB 4.9MB/s eta 0:00:01\r\u001b[K     |████████                        | 245kB 4.9MB/s eta 0:00:01\r\u001b[K     |████████▎                       | 256kB 4.9MB/s eta 0:00:01\r\u001b[K     |████████▋                       | 266kB 4.9MB/s eta 0:00:01\r\u001b[K     |█████████                       | 276kB 4.9MB/s eta 0:00:01\r\u001b[K     |█████████▎                      | 286kB 4.9MB/s eta 0:00:01\r\u001b[K     |█████████▋                      | 296kB 4.9MB/s eta 0:00:01\r\u001b[K     |██████████                      | 307kB 4.9MB/s eta 0:00:01\r\u001b[K     |██████████▎                     | 317kB 4.9MB/s eta 0:00:01\r\u001b[K     |██████████▋                     | 327kB 4.9MB/s eta 0:00:01\r\u001b[K     |███████████                     | 337kB 4.9MB/s eta 0:00:01\r\u001b[K     |███████████▎                    | 348kB 4.9MB/s eta 0:00:01\r\u001b[K     |███████████▋                    | 358kB 4.9MB/s eta 0:00:01\r\u001b[K     |████████████                    | 368kB 4.9MB/s eta 0:00:01\r\u001b[K     |████████████▎                   | 378kB 4.9MB/s eta 0:00:01\r\u001b[K     |████████████▋                   | 389kB 4.9MB/s eta 0:00:01\r\u001b[K     |█████████████                   | 399kB 4.9MB/s eta 0:00:01\r\u001b[K     |█████████████▎                  | 409kB 4.9MB/s eta 0:00:01\r\u001b[K     |█████████████▋                  | 419kB 4.9MB/s eta 0:00:01\r\u001b[K     |██████████████                  | 430kB 4.9MB/s eta 0:00:01\r\u001b[K     |██████████████▎                 | 440kB 4.9MB/s eta 0:00:01\r\u001b[K     |██████████████▋                 | 450kB 4.9MB/s eta 0:00:01\r\u001b[K     |███████████████                 | 460kB 4.9MB/s eta 0:00:01\r\u001b[K     |███████████████▎                | 471kB 4.9MB/s eta 0:00:01\r\u001b[K     |███████████████▋                | 481kB 4.9MB/s eta 0:00:01\r\u001b[K     |████████████████                | 491kB 4.9MB/s eta 0:00:01\r\u001b[K     |████████████████▎               | 501kB 4.9MB/s eta 0:00:01\r\u001b[K     |████████████████▋               | 512kB 4.9MB/s eta 0:00:01\r\u001b[K     |█████████████████               | 522kB 4.9MB/s eta 0:00:01\r\u001b[K     |█████████████████▎              | 532kB 4.9MB/s eta 0:00:01\r\u001b[K     |█████████████████▋              | 542kB 4.9MB/s eta 0:00:01\r\u001b[K     |██████████████████              | 552kB 4.9MB/s eta 0:00:01\r\u001b[K     |██████████████████▎             | 563kB 4.9MB/s eta 0:00:01\r\u001b[K     |██████████████████▋             | 573kB 4.9MB/s eta 0:00:01\r\u001b[K     |███████████████████             | 583kB 4.9MB/s eta 0:00:01\r\u001b[K     |███████████████████▎            | 593kB 4.9MB/s eta 0:00:01\r\u001b[K     |███████████████████▋            | 604kB 4.9MB/s eta 0:00:01\r\u001b[K     |████████████████████            | 614kB 4.9MB/s eta 0:00:01\r\u001b[K     |████████████████████▎           | 624kB 4.9MB/s eta 0:00:01\r\u001b[K     |████████████████████▋           | 634kB 4.9MB/s eta 0:00:01\r\u001b[K     |█████████████████████           | 645kB 4.9MB/s eta 0:00:01\r\u001b[K     |█████████████████████▎          | 655kB 4.9MB/s eta 0:00:01\r\u001b[K     |█████████████████████▋          | 665kB 4.9MB/s eta 0:00:01\r\u001b[K     |██████████████████████          | 675kB 4.9MB/s eta 0:00:01\r\u001b[K     |██████████████████████▎         | 686kB 4.9MB/s eta 0:00:01\r\u001b[K     |██████████████████████▋         | 696kB 4.9MB/s eta 0:00:01\r\u001b[K     |███████████████████████         | 706kB 4.9MB/s eta 0:00:01\r\u001b[K     |███████████████████████▎        | 716kB 4.9MB/s eta 0:00:01\r\u001b[K     |███████████████████████▋        | 727kB 4.9MB/s eta 0:00:01\r\u001b[K     |████████████████████████        | 737kB 4.9MB/s eta 0:00:01\r\u001b[K     |████████████████████████▎       | 747kB 4.9MB/s eta 0:00:01\r\u001b[K     |████████████████████████▋       | 757kB 4.9MB/s eta 0:00:01\r\u001b[K     |████████████████████████▉       | 768kB 4.9MB/s eta 0:00:01\r\u001b[K     |█████████████████████████▏      | 778kB 4.9MB/s eta 0:00:01\r\u001b[K     |█████████████████████████▌      | 788kB 4.9MB/s eta 0:00:01\r\u001b[K     |█████████████████████████▉      | 798kB 4.9MB/s eta 0:00:01\r\u001b[K     |██████████████████████████▏     | 808kB 4.9MB/s eta 0:00:01\r\u001b[K     |██████████████████████████▌     | 819kB 4.9MB/s eta 0:00:01\r\u001b[K     |██████████████████████████▉     | 829kB 4.9MB/s eta 0:00:01\r\u001b[K     |███████████████████████████▏    | 839kB 4.9MB/s eta 0:00:01\r\u001b[K     |███████████████████████████▌    | 849kB 4.9MB/s eta 0:00:01\r\u001b[K     |███████████████████████████▉    | 860kB 4.9MB/s eta 0:00:01\r\u001b[K     |████████████████████████████▏   | 870kB 4.9MB/s eta 0:00:01\r\u001b[K     |████████████████████████████▌   | 880kB 4.9MB/s eta 0:00:01\r\u001b[K     |████████████████████████████▉   | 890kB 4.9MB/s eta 0:00:01\r\u001b[K     |█████████████████████████████▏  | 901kB 4.9MB/s eta 0:00:01\r\u001b[K     |█████████████████████████████▌  | 911kB 4.9MB/s eta 0:00:01\r\u001b[K     |█████████████████████████████▉  | 921kB 4.9MB/s eta 0:00:01\r\u001b[K     |██████████████████████████████▏ | 931kB 4.9MB/s eta 0:00:01\r\u001b[K     |██████████████████████████████▌ | 942kB 4.9MB/s eta 0:00:01\r\u001b[K     |██████████████████████████████▉ | 952kB 4.9MB/s eta 0:00:01\r\u001b[K     |███████████████████████████████▏| 962kB 4.9MB/s eta 0:00:01\r\u001b[K     |███████████████████████████████▌| 972kB 4.9MB/s eta 0:00:01\r\u001b[K     |███████████████████████████████▉| 983kB 4.9MB/s eta 0:00:01\r\u001b[K     |████████████████████████████████| 993kB 4.9MB/s \n",
            "\u001b[?25h  Building wheel for PyDrive (setup.py) ... \u001b[?25l\u001b[?25hdone\n"
          ],
          "name": "stdout"
        }
      ]
    },
    {
      "cell_type": "code",
      "metadata": {
        "id": "SxC3rcCPJoYd",
        "colab_type": "code",
        "outputId": "8de7114e-7cb7-4832-ce08-0aec466c6a17",
        "colab": {
          "base_uri": "https://localhost:8080/",
          "height": 54
        }
      },
      "source": [
        "# 1.3 import for Google Drive -import\n",
        "# Download a file based on its file ID.\n",
        "#\n",
        "# A file ID looks like: laggVyWshwcyP6kEI-y_W3P8D26sz\n",
        "file_id = '1lHrbCx-PUdARIKWE8e37ebqHDGGzsYdo' # nanotag csv\n",
        "file_id2 = '1kujAosnNw-Q-8reuZcjrbbrmcHtBx3V6' # detections copy csv\n",
        "\n",
        "downloaded = drive.CreateFile({'id': file_id})\n",
        "downloaded.GetContentFile('2018 Collision nanotag data.csv') \n",
        "\n",
        "downloaded2 = drive.CreateFile({'id': file_id2})\n",
        "downloaded2.GetContentFile('copy_detction_data.csv') \n",
        "# print('Downloaded content \"{}\"'.format(downloaded.GetContentString()))\n",
        "\n",
        "#Create dataframe\n",
        "df_nanotags2 = pd.read_csv('2018 Collision nanotag data.csv', encoding = \"mac_roman\")\n",
        "df_detections = pd.read_csv('copy_detction_data.csv', encoding = \"mac_roman\")\n",
        "\n",
        "\n",
        "\n",
        "\n",
        "'''\n",
        "nysdf = pd.read_csv(\"/Users/Monroe/Documents/Programming/Projects/nys-environmental-remediation-sites/environmental-remediation-sites.csv\")\n",
        "\n",
        "## Use this with an input to hide my filepath from online... \n",
        "## train_df = pd.read_csv(os.path.join(PATH,'train.csv')\n",
        "'''"
      ],
      "execution_count": 5,
      "outputs": [
        {
          "output_type": "execute_result",
          "data": {
            "text/plain": [
              "'\\nnysdf = pd.read_csv(\"/Users/Monroe/Documents/Programming/Projects/nys-environmental-remediation-sites/environmental-remediation-sites.csv\")\\n\\n## Use this with an input to hide my filepath from online... \\n## train_df = pd.read_csv(os.path.join(PATH,\\'train.csv\\')\\n'"
            ]
          },
          "metadata": {
            "tags": []
          },
          "execution_count": 5
        }
      ]
    },
    {
      "cell_type": "markdown",
      "metadata": {
        "id": "iQtnw93-zr5U",
        "colab_type": "text"
      },
      "source": [
        "## Cleaning Data"
      ]
    },
    {
      "cell_type": "code",
      "metadata": {
        "id": "LCimJ7jxIm9t",
        "colab_type": "code",
        "colab": {}
      },
      "source": [
        "# 2. Clean data\n",
        "# a. Remove rows with Null bird species\n",
        "df_detections = df_detections.dropna(subset=['speciesEN.x'])\n",
        "\n",
        "# b. Changing tag 28452 to Oven Bird - changing rehab, species, release site\n",
        "df_detections.loc[df_detections['motusTagID'] == 28452, ['rehab', 'speciesEN.y', 'release.site']] = 'Y','OVEN', 'LENSC'\n",
        "\n",
        "# c. on nanotags df, change cols to lower case to match tags\n",
        "df_nanotags2 = df_nanotags2.rename(str.lower, axis='columns')\n",
        "\n",
        "# d. join the release time and date cols to the original df\n",
        "df_detections = pd.merge(df_detections,df_nanotags2[['tag', \n",
        "            'release date (utc)', 'release time (utc).1', 'time in custody (days)', 'latitude',\n",
        "       'longitude']],on='tag', how='left')\n",
        "\n",
        "df_detections = df_detections.rename(columns = {'release time (utc).1': 'releaseTimeUTC', \n",
        "                                                'release date (utc)': 'releaseDate', \n",
        "                                               'latitude' : 'relLat', \n",
        "                                               'longitude' : 'relLong'})\n",
        "\n",
        "# e. rename release site names so that FRYS is uniform. only 4 different release sites\n",
        "df_detections.loc[df_detections['release.site'] == 'Frys', ['release.site']] = 'FRYS'\n",
        "\n",
        "df_detections.loc[df_detections['release.site'] == 'frys', ['release.site']] = 'FRYS'\n"
      ],
      "execution_count": 0,
      "outputs": []
    },
    {
      "cell_type": "code",
      "metadata": {
        "id": "fVmNz2aUIm96",
        "colab_type": "code",
        "colab": {}
      },
      "source": [
        "# 3. Make datetime uniform...\n",
        "\n",
        "# a. convert the day and abbrev month as new col\n",
        "df_detections['date2'] = pd.to_datetime(df_detections['rehab.intake.date'], format='%d-%b')\n",
        "\n",
        "# b.  add in year as 2018\n",
        "df_detections['date2'] = df_detections['date2'].apply(lambda dt: dt.replace(year=2018, hour = 12, minute = 0, second = 0))\n",
        "\n",
        "# c. replace with original col\n",
        "df_detections['rehab.intake.date'] = df_detections['date2']\n",
        "df_detections = df_detections.drop(columns=['date2'], axis=1)\n",
        "\n",
        "# d. convert 'ts.h' as datetime\n",
        "df_detections['ts.h'] = pd.to_datetime(df_detections['ts.h'], format='%Y-%m-%d %H:%M:%S')"
      ],
      "execution_count": 0,
      "outputs": []
    },
    {
      "cell_type": "code",
      "metadata": {
        "id": "8T78BsCqETqv",
        "colab_type": "code",
        "outputId": "e6c7062b-80e3-4741-de52-63e5efb20cf9",
        "colab": {
          "base_uri": "https://localhost:8080/",
          "height": 34
        }
      },
      "source": [
        "#df_nanotags2['tag type'].unique()\n",
        "df_detections['release.site'].unique()\n"
      ],
      "execution_count": 8,
      "outputs": [
        {
          "output_type": "execute_result",
          "data": {
            "text/plain": [
              "array(['FRYS', 'LENSC', 'PGH', 'PARC'], dtype=object)"
            ]
          },
          "metadata": {
            "tags": []
          },
          "execution_count": 8
        }
      ]
    },
    {
      "cell_type": "code",
      "metadata": {
        "scrolled": false,
        "id": "UBZ6eCanIm99",
        "colab_type": "code",
        "colab": {}
      },
      "source": [
        "# 4. Days since rehab & remove bad dates\n",
        "\n",
        "# a. Calculate number of days since rehab release and since first detection\n",
        "# New col for days since rehab\n",
        "df_detections['DaysSinceRehab'] = (df_detections['ts.h'] - df_detections['rehab.intake.date']).dt.days\n",
        "\n",
        "# b. remove bad entries when detection date comes before rehab\n",
        "df_detections = df_detections.drop(df_detections[df_detections.DaysSinceRehab <= 0].index)\n",
        "\n",
        "# BELOW IS OLD - The average number of days since rehab and intake, selecting only for positive values\n",
        "\n",
        "# PROBLEM: some of the days since rehab are negative... why?\n",
        "# Get the unique tags when this occurs\n",
        "# df_OffDates = df_detections.loc[df_detections['DaysSinceRehab'] <= 0]\n",
        "# df_OffDates.motusTagID.unique()"
      ],
      "execution_count": 0,
      "outputs": []
    },
    {
      "cell_type": "markdown",
      "metadata": {
        "id": "aFd7JTkWz0MZ",
        "colab_type": "text"
      },
      "source": [
        "## EDA for Species and Receivers"
      ]
    },
    {
      "cell_type": "code",
      "metadata": {
        "id": "tveFrcjGIm-C",
        "colab_type": "code",
        "outputId": "78d1724b-e805-4e39-f6bc-6e0b60c846ea",
        "colab": {
          "base_uri": "https://localhost:8080/",
          "height": 1000
        }
      },
      "source": [
        "# 4. EDA for speices and receivers\n",
        "# a. How many unique species? 6 total\n",
        "print('Number of Different Species = ' + str(len(df_detections['speciesEN.x'].unique())))\n",
        "\n",
        "# b. How many different receivers?\n",
        "print('Number of Different Receivers = ' + str(len(df_detections['recvDeployName'].unique())))\n",
        "\n",
        "# c. How many unique species? 6 total\n",
        "print(df_detections['speciesEN.x'].unique())\n",
        "\n",
        "# d. How many unqiue birds tagged & detected ? - 36 total\n",
        "print('Total Unique Birds Tagged & Detected: ' + str(len(df_detections.motusTagID.unique())))\n",
        "\n",
        "# d. Group receivers by tags and total number of hits\n",
        "df_detections.groupby(['recvDeployName', 'motusTagID']).size().reset_index(name = 'count').sort_values(by = 'count', ascending = False)"
      ],
      "execution_count": 10,
      "outputs": [
        {
          "output_type": "stream",
          "text": [
            "Number of Different Species = 6\n",
            "Number of Different Receivers = 37\n",
            "['White-throated Sparrow' 'American Woodcock' 'Gray Catbird' 'Ovenbird'\n",
            " 'Magnolia Warbler' 'Wood Thrush']\n",
            "Total Unique Birds Tagged & Detected: 36\n"
          ],
          "name": "stdout"
        },
        {
          "output_type": "execute_result",
          "data": {
            "text/html": [
              "<div>\n",
              "<style scoped>\n",
              "    .dataframe tbody tr th:only-of-type {\n",
              "        vertical-align: middle;\n",
              "    }\n",
              "\n",
              "    .dataframe tbody tr th {\n",
              "        vertical-align: top;\n",
              "    }\n",
              "\n",
              "    .dataframe thead th {\n",
              "        text-align: right;\n",
              "    }\n",
              "</style>\n",
              "<table border=\"1\" class=\"dataframe\">\n",
              "  <thead>\n",
              "    <tr style=\"text-align: right;\">\n",
              "      <th></th>\n",
              "      <th>recvDeployName</th>\n",
              "      <th>motusTagID</th>\n",
              "      <th>count</th>\n",
              "    </tr>\n",
              "  </thead>\n",
              "  <tbody>\n",
              "    <tr>\n",
              "      <th>50</th>\n",
              "      <td>PARC Honey Hut</td>\n",
              "      <td>28436</td>\n",
              "      <td>11972</td>\n",
              "    </tr>\n",
              "    <tr>\n",
              "      <th>42</th>\n",
              "      <td>PARC Banding</td>\n",
              "      <td>28763</td>\n",
              "      <td>7310</td>\n",
              "    </tr>\n",
              "    <tr>\n",
              "      <th>41</th>\n",
              "      <td>PARC Banding</td>\n",
              "      <td>28445</td>\n",
              "      <td>1302</td>\n",
              "    </tr>\n",
              "    <tr>\n",
              "      <th>39</th>\n",
              "      <td>PARC Banding</td>\n",
              "      <td>28434</td>\n",
              "      <td>1256</td>\n",
              "    </tr>\n",
              "    <tr>\n",
              "      <th>44</th>\n",
              "      <td>PARC Honey Hut</td>\n",
              "      <td>28415</td>\n",
              "      <td>706</td>\n",
              "    </tr>\n",
              "    <tr>\n",
              "      <th>57</th>\n",
              "      <td>PARC Honey Hut</td>\n",
              "      <td>28457</td>\n",
              "      <td>679</td>\n",
              "    </tr>\n",
              "    <tr>\n",
              "      <th>46</th>\n",
              "      <td>PARC Honey Hut</td>\n",
              "      <td>28422</td>\n",
              "      <td>129</td>\n",
              "    </tr>\n",
              "    <tr>\n",
              "      <th>52</th>\n",
              "      <td>PARC Honey Hut</td>\n",
              "      <td>28446</td>\n",
              "      <td>110</td>\n",
              "    </tr>\n",
              "    <tr>\n",
              "      <th>53</th>\n",
              "      <td>PARC Honey Hut</td>\n",
              "      <td>28448</td>\n",
              "      <td>96</td>\n",
              "    </tr>\n",
              "    <tr>\n",
              "      <th>51</th>\n",
              "      <td>PARC Honey Hut</td>\n",
              "      <td>28441</td>\n",
              "      <td>89</td>\n",
              "    </tr>\n",
              "    <tr>\n",
              "      <th>45</th>\n",
              "      <td>PARC Honey Hut</td>\n",
              "      <td>28420</td>\n",
              "      <td>39</td>\n",
              "    </tr>\n",
              "    <tr>\n",
              "      <th>55</th>\n",
              "      <td>PARC Honey Hut</td>\n",
              "      <td>28452</td>\n",
              "      <td>36</td>\n",
              "    </tr>\n",
              "    <tr>\n",
              "      <th>54</th>\n",
              "      <td>PARC Honey Hut</td>\n",
              "      <td>28449</td>\n",
              "      <td>33</td>\n",
              "    </tr>\n",
              "    <tr>\n",
              "      <th>49</th>\n",
              "      <td>PARC Honey Hut</td>\n",
              "      <td>28429</td>\n",
              "      <td>26</td>\n",
              "    </tr>\n",
              "    <tr>\n",
              "      <th>48</th>\n",
              "      <td>PARC Honey Hut</td>\n",
              "      <td>28428</td>\n",
              "      <td>21</td>\n",
              "    </tr>\n",
              "    <tr>\n",
              "      <th>11</th>\n",
              "      <td>Churchill - Fen</td>\n",
              "      <td>24345</td>\n",
              "      <td>15</td>\n",
              "    </tr>\n",
              "    <tr>\n",
              "      <th>14</th>\n",
              "      <td>D'Estimauville</td>\n",
              "      <td>28452</td>\n",
              "      <td>8</td>\n",
              "    </tr>\n",
              "    <tr>\n",
              "      <th>56</th>\n",
              "      <td>PARC Honey Hut</td>\n",
              "      <td>28455</td>\n",
              "      <td>7</td>\n",
              "    </tr>\n",
              "    <tr>\n",
              "      <th>43</th>\n",
              "      <td>PARC CMNH</td>\n",
              "      <td>28453</td>\n",
              "      <td>7</td>\n",
              "    </tr>\n",
              "    <tr>\n",
              "      <th>40</th>\n",
              "      <td>PARC Banding</td>\n",
              "      <td>28440</td>\n",
              "      <td>6</td>\n",
              "    </tr>\n",
              "    <tr>\n",
              "      <th>32</th>\n",
              "      <td>Long_Point_Tip</td>\n",
              "      <td>28451</td>\n",
              "      <td>5</td>\n",
              "    </tr>\n",
              "    <tr>\n",
              "      <th>47</th>\n",
              "      <td>PARC Honey Hut</td>\n",
              "      <td>28425</td>\n",
              "      <td>5</td>\n",
              "    </tr>\n",
              "    <tr>\n",
              "      <th>26</th>\n",
              "      <td>Haldimand Raptor Reserve</td>\n",
              "      <td>28451</td>\n",
              "      <td>5</td>\n",
              "    </tr>\n",
              "    <tr>\n",
              "      <th>30</th>\n",
              "      <td>Long_Point_Tip</td>\n",
              "      <td>28423</td>\n",
              "      <td>4</td>\n",
              "    </tr>\n",
              "    <tr>\n",
              "      <th>66</th>\n",
              "      <td>St-Roch-des-Aulnaies</td>\n",
              "      <td>28433</td>\n",
              "      <td>4</td>\n",
              "    </tr>\n",
              "    <tr>\n",
              "      <th>59</th>\n",
              "      <td>PKR_salt_pannes</td>\n",
              "      <td>28441</td>\n",
              "      <td>4</td>\n",
              "    </tr>\n",
              "    <tr>\n",
              "      <th>69</th>\n",
              "      <td>WAQT</td>\n",
              "      <td>28441</td>\n",
              "      <td>4</td>\n",
              "    </tr>\n",
              "    <tr>\n",
              "      <th>2</th>\n",
              "      <td>43.6:-79.35</td>\n",
              "      <td>28452</td>\n",
              "      <td>4</td>\n",
              "    </tr>\n",
              "    <tr>\n",
              "      <th>28</th>\n",
              "      <td>Lakeview Landfill</td>\n",
              "      <td>28457</td>\n",
              "      <td>4</td>\n",
              "    </tr>\n",
              "    <tr>\n",
              "      <th>4</th>\n",
              "      <td>43.6:-79.35</td>\n",
              "      <td>28458</td>\n",
              "      <td>4</td>\n",
              "    </tr>\n",
              "    <tr>\n",
              "      <th>...</th>\n",
              "      <td>...</td>\n",
              "      <td>...</td>\n",
              "      <td>...</td>\n",
              "    </tr>\n",
              "    <tr>\n",
              "      <th>23</th>\n",
              "      <td>Girard</td>\n",
              "      <td>28441</td>\n",
              "      <td>2</td>\n",
              "    </tr>\n",
              "    <tr>\n",
              "      <th>60</th>\n",
              "      <td>Pointe ‡ la Loupe</td>\n",
              "      <td>28433</td>\n",
              "      <td>2</td>\n",
              "    </tr>\n",
              "    <tr>\n",
              "      <th>21</th>\n",
              "      <td>Gerdau</td>\n",
              "      <td>28416</td>\n",
              "      <td>2</td>\n",
              "    </tr>\n",
              "    <tr>\n",
              "      <th>33</th>\n",
              "      <td>Long_Point_Tip</td>\n",
              "      <td>28460</td>\n",
              "      <td>1</td>\n",
              "    </tr>\n",
              "    <tr>\n",
              "      <th>62</th>\n",
              "      <td>PresqueIsle</td>\n",
              "      <td>28441</td>\n",
              "      <td>1</td>\n",
              "    </tr>\n",
              "    <tr>\n",
              "      <th>6</th>\n",
              "      <td>47.45:-70.05</td>\n",
              "      <td>28433</td>\n",
              "      <td>1</td>\n",
              "    </tr>\n",
              "    <tr>\n",
              "      <th>61</th>\n",
              "      <td>Pointe-aux-Outardes</td>\n",
              "      <td>28433</td>\n",
              "      <td>1</td>\n",
              "    </tr>\n",
              "    <tr>\n",
              "      <th>65</th>\n",
              "      <td>Ruthven</td>\n",
              "      <td>28451</td>\n",
              "      <td>1</td>\n",
              "    </tr>\n",
              "    <tr>\n",
              "      <th>63</th>\n",
              "      <td>PresqueIsle</td>\n",
              "      <td>28451</td>\n",
              "      <td>1</td>\n",
              "    </tr>\n",
              "    <tr>\n",
              "      <th>64</th>\n",
              "      <td>Rondeau_Provincial_Park</td>\n",
              "      <td>28425</td>\n",
              "      <td>1</td>\n",
              "    </tr>\n",
              "    <tr>\n",
              "      <th>7</th>\n",
              "      <td>Binbrook</td>\n",
              "      <td>28426</td>\n",
              "      <td>1</td>\n",
              "    </tr>\n",
              "    <tr>\n",
              "      <th>67</th>\n",
              "      <td>Sunset Farm</td>\n",
              "      <td>24345</td>\n",
              "      <td>1</td>\n",
              "    </tr>\n",
              "    <tr>\n",
              "      <th>70</th>\n",
              "      <td>Waterford_Quarry</td>\n",
              "      <td>28455</td>\n",
              "      <td>1</td>\n",
              "    </tr>\n",
              "    <tr>\n",
              "      <th>58</th>\n",
              "      <td>PARC Mt. Laurel</td>\n",
              "      <td>24376</td>\n",
              "      <td>1</td>\n",
              "    </tr>\n",
              "    <tr>\n",
              "      <th>13</th>\n",
              "      <td>D'Estimauville</td>\n",
              "      <td>28413</td>\n",
              "      <td>1</td>\n",
              "    </tr>\n",
              "    <tr>\n",
              "      <th>8</th>\n",
              "      <td>Binbrook</td>\n",
              "      <td>28460</td>\n",
              "      <td>1</td>\n",
              "    </tr>\n",
              "    <tr>\n",
              "      <th>9</th>\n",
              "      <td>Brighton</td>\n",
              "      <td>28414</td>\n",
              "      <td>1</td>\n",
              "    </tr>\n",
              "    <tr>\n",
              "      <th>12</th>\n",
              "      <td>Curries</td>\n",
              "      <td>28425</td>\n",
              "      <td>1</td>\n",
              "    </tr>\n",
              "    <tr>\n",
              "      <th>34</th>\n",
              "      <td>Merlin</td>\n",
              "      <td>28427</td>\n",
              "      <td>1</td>\n",
              "    </tr>\n",
              "    <tr>\n",
              "      <th>15</th>\n",
              "      <td>Dunkirk Lighthouse</td>\n",
              "      <td>28450</td>\n",
              "      <td>1</td>\n",
              "    </tr>\n",
              "    <tr>\n",
              "      <th>17</th>\n",
              "      <td>Earl_Rowe_PP</td>\n",
              "      <td>28423</td>\n",
              "      <td>1</td>\n",
              "    </tr>\n",
              "    <tr>\n",
              "      <th>18</th>\n",
              "      <td>Earl_Rowe_PP</td>\n",
              "      <td>28451</td>\n",
              "      <td>1</td>\n",
              "    </tr>\n",
              "    <tr>\n",
              "      <th>20</th>\n",
              "      <td>Flamborough_Quarry</td>\n",
              "      <td>28423</td>\n",
              "      <td>1</td>\n",
              "    </tr>\n",
              "    <tr>\n",
              "      <th>22</th>\n",
              "      <td>Gerdau</td>\n",
              "      <td>28458</td>\n",
              "      <td>1</td>\n",
              "    </tr>\n",
              "    <tr>\n",
              "      <th>29</th>\n",
              "      <td>Long_Point_Tip</td>\n",
              "      <td>28414</td>\n",
              "      <td>1</td>\n",
              "    </tr>\n",
              "    <tr>\n",
              "      <th>31</th>\n",
              "      <td>Long_Point_Tip</td>\n",
              "      <td>28426</td>\n",
              "      <td>1</td>\n",
              "    </tr>\n",
              "    <tr>\n",
              "      <th>37</th>\n",
              "      <td>Napanee LOSH</td>\n",
              "      <td>28413</td>\n",
              "      <td>1</td>\n",
              "    </tr>\n",
              "    <tr>\n",
              "      <th>1</th>\n",
              "      <td>43.6:-79.35</td>\n",
              "      <td>28412</td>\n",
              "      <td>1</td>\n",
              "    </tr>\n",
              "    <tr>\n",
              "      <th>35</th>\n",
              "      <td>Morgan Rd. Office 1</td>\n",
              "      <td>28454</td>\n",
              "      <td>1</td>\n",
              "    </tr>\n",
              "    <tr>\n",
              "      <th>0</th>\n",
              "      <td>39.8:-79.7</td>\n",
              "      <td>28445</td>\n",
              "      <td>1</td>\n",
              "    </tr>\n",
              "  </tbody>\n",
              "</table>\n",
              "<p>72 rows × 3 columns</p>\n",
              "</div>"
            ],
            "text/plain": [
              "              recvDeployName  motusTagID  count\n",
              "50            PARC Honey Hut       28436  11972\n",
              "42              PARC Banding       28763   7310\n",
              "41              PARC Banding       28445   1302\n",
              "39              PARC Banding       28434   1256\n",
              "44            PARC Honey Hut       28415    706\n",
              "57            PARC Honey Hut       28457    679\n",
              "46            PARC Honey Hut       28422    129\n",
              "52            PARC Honey Hut       28446    110\n",
              "53            PARC Honey Hut       28448     96\n",
              "51            PARC Honey Hut       28441     89\n",
              "45            PARC Honey Hut       28420     39\n",
              "55            PARC Honey Hut       28452     36\n",
              "54            PARC Honey Hut       28449     33\n",
              "49            PARC Honey Hut       28429     26\n",
              "48            PARC Honey Hut       28428     21\n",
              "11           Churchill - Fen       24345     15\n",
              "14            D'Estimauville       28452      8\n",
              "56            PARC Honey Hut       28455      7\n",
              "43                 PARC CMNH       28453      7\n",
              "40              PARC Banding       28440      6\n",
              "32            Long_Point_Tip       28451      5\n",
              "47            PARC Honey Hut       28425      5\n",
              "26  Haldimand Raptor Reserve       28451      5\n",
              "30            Long_Point_Tip       28423      4\n",
              "66      St-Roch-des-Aulnaies       28433      4\n",
              "59           PKR_salt_pannes       28441      4\n",
              "69                      WAQT       28441      4\n",
              "2                43.6:-79.35       28452      4\n",
              "28         Lakeview Landfill       28457      4\n",
              "4                43.6:-79.35       28458      4\n",
              "..                       ...         ...    ...\n",
              "23                    Girard       28441      2\n",
              "60         Pointe ‡ la Loupe       28433      2\n",
              "21                    Gerdau       28416      2\n",
              "33            Long_Point_Tip       28460      1\n",
              "62               PresqueIsle       28441      1\n",
              "6               47.45:-70.05       28433      1\n",
              "61       Pointe-aux-Outardes       28433      1\n",
              "65                   Ruthven       28451      1\n",
              "63               PresqueIsle       28451      1\n",
              "64   Rondeau_Provincial_Park       28425      1\n",
              "7                   Binbrook       28426      1\n",
              "67               Sunset Farm       24345      1\n",
              "70          Waterford_Quarry       28455      1\n",
              "58           PARC Mt. Laurel       24376      1\n",
              "13            D'Estimauville       28413      1\n",
              "8                   Binbrook       28460      1\n",
              "9                   Brighton       28414      1\n",
              "12                   Curries       28425      1\n",
              "34                    Merlin       28427      1\n",
              "15        Dunkirk Lighthouse       28450      1\n",
              "17              Earl_Rowe_PP       28423      1\n",
              "18              Earl_Rowe_PP       28451      1\n",
              "20        Flamborough_Quarry       28423      1\n",
              "22                    Gerdau       28458      1\n",
              "29            Long_Point_Tip       28414      1\n",
              "31            Long_Point_Tip       28426      1\n",
              "37              Napanee LOSH       28413      1\n",
              "1                43.6:-79.35       28412      1\n",
              "35       Morgan Rd. Office 1       28454      1\n",
              "0                 39.8:-79.7       28445      1\n",
              "\n",
              "[72 rows x 3 columns]"
            ]
          },
          "metadata": {
            "tags": []
          },
          "execution_count": 10
        }
      ]
    },
    {
      "cell_type": "code",
      "metadata": {
        "id": "0tETRJciIm-F",
        "colab_type": "code",
        "outputId": "1814b86f-e6cd-4da5-aba2-ccf0f567c634",
        "colab": {
          "base_uri": "https://localhost:8080/",
          "height": 323
        }
      },
      "source": [
        "# 5. EDA by Species - AMWO \n",
        "# Separate by species\n",
        "df_woodcock = df_detections.loc[df_detections['speciesEN.x'] == \"American Woodcock\"]\n",
        "\n",
        "df_AMWOrehab = df_woodcock.loc[df_woodcock['rehab'] == \"Y\"]\n",
        "print('AMWO Rehab Count:' + str(len(df_AMWOrehab.motusTagID.unique()))) # of the rehab, total number unique banded\n",
        "print('AMWO Rehab Tags: ' + str(df_AMWOrehab.motusTagID.unique()))# of the rehab, unique tags\n",
        "\n",
        "df_AMWOwild = df_woodcock.loc[df_woodcock['rehab'] == \"N\"]\n",
        "print('AMWO Wild Count: ' + str(len(df_AMWOwild.motusTagID.unique()))) # of the rehab, total number unique banded\n",
        "print('AMWO Wild Tags: ' + str(df_AMWOwild.motusTagID.unique())) # of the rehab, unique tags\n",
        "\n",
        "print('Total Detections Rehab: ' + str(len(df_woodcock.loc[df_woodcock['rehab'] == \"Y\"]))) #total detections rehab\n",
        "print('Total Detections Wild: ' + str(len(df_woodcock.loc[df_woodcock['rehab'] == \"N\"]))) #total detections wild\n",
        "\n",
        "# Release receivers that picked up tags - groupby size\n",
        "df_woodcock.groupby('recvDeployName').size()"
      ],
      "execution_count": 11,
      "outputs": [
        {
          "output_type": "stream",
          "text": [
            "AMWO Rehab Count:4\n",
            "AMWO Rehab Tags: [28451 28449 28420 28428]\n",
            "AMWO Wild Count: 1\n",
            "AMWO Wild Tags: [28445]\n",
            "Total Detections Rehab: 112\n",
            "Total Detections Wild: 1303\n"
          ],
          "name": "stdout"
        },
        {
          "output_type": "execute_result",
          "data": {
            "text/plain": [
              "recvDeployName\n",
              "39.8:-79.7                     1\n",
              "Earl_Rowe_PP                   1\n",
              "Girard                         3\n",
              "Haldimand Raptor Reserve       5\n",
              "Long_Point_Tip                 5\n",
              "Nanticoke                      3\n",
              "PARC Banding                1302\n",
              "PARC Honey Hut                93\n",
              "PresqueIsle                    1\n",
              "Ruthven                        1\n",
              "dtype: int64"
            ]
          },
          "metadata": {
            "tags": []
          },
          "execution_count": 11
        }
      ]
    },
    {
      "cell_type": "code",
      "metadata": {
        "id": "spxTTcuTIm-H",
        "colab_type": "code",
        "outputId": "1f88b0b4-c914-4400-99c8-1fac97beed1b",
        "colab": {
          "base_uri": "https://localhost:8080/",
          "height": 272
        }
      },
      "source": [
        "# 6. EDA by Species - WTSP \n",
        "# Separate by species\n",
        "df_wtsparrow = df_detections.loc[df_detections['speciesEN.x'] == \"White-throated Sparrow\"]\n",
        "\n",
        "df_WTSPrehab = df_wtsparrow.loc[df_wtsparrow['rehab'] == \"Y\"]\n",
        "print('WTSP Rehab Count:' + str(len(df_WTSPrehab.motusTagID.unique()))) # of the rehab, total number unique banded\n",
        "print('WTSP Rehab Tags: ' + str(df_WTSPrehab.motusTagID.unique())) # of the rehab, unique tags\n",
        "\n",
        "df_WTSPwild = df_wtsparrow.loc[df_wtsparrow['rehab'] == \"N\"]\n",
        "print('WTSP Wild Count: ' + str(len(df_WTSPwild.motusTagID.unique()))) # of the rehab, total number unique banded\n",
        "print('WTSP Wild Tags: ' + str(df_WTSPwild.motusTagID.unique())) # of the rehab, unique tags\n",
        "\n",
        "print('Total Detections Rehab: ' + str(len(df_wtsparrow.loc[df_wtsparrow['rehab'] == \"Y\"]))) #total detections rehab\n",
        "print('Total Detections Wild: ' + str(len(df_wtsparrow.loc[df_wtsparrow['rehab'] == \"N\"]))) #total detections wild\n",
        "\n",
        "# Release receivers that picked up tags - groupby size\n",
        "df_wtsparrow.groupby('recvDeployName').size()"
      ],
      "execution_count": 12,
      "outputs": [
        {
          "output_type": "stream",
          "text": [
            "WTSP Rehab Count:1\n",
            "WTSP Rehab Tags: [28423]\n",
            "WTSP Wild Count: 4\n",
            "WTSP Wild Tags: [28414 28416 28426 28454]\n",
            "Total Detections Rehab: 6\n",
            "Total Detections Wild: 7\n"
          ],
          "name": "stdout"
        },
        {
          "output_type": "execute_result",
          "data": {
            "text/plain": [
              "recvDeployName\n",
              "Binbrook               1\n",
              "Brighton               1\n",
              "Earl_Rowe_PP           1\n",
              "Flamborough_Quarry     1\n",
              "Gerdau                 2\n",
              "Long_Point_Tip         6\n",
              "Morgan Rd. Office 1    1\n",
              "dtype: int64"
            ]
          },
          "metadata": {
            "tags": []
          },
          "execution_count": 12
        }
      ]
    },
    {
      "cell_type": "code",
      "metadata": {
        "id": "rLkM6ygRIm-K",
        "colab_type": "code",
        "outputId": "f6b807b7-9cb9-4df5-ac5f-d104c90da299",
        "colab": {
          "base_uri": "https://localhost:8080/",
          "height": 374
        }
      },
      "source": [
        "# 7. EDA by Species - GRCA \n",
        "# Separate by species\n",
        "df_gcatbird = df_detections.loc[df_detections['speciesEN.x'] == \"Gray Catbird\"]\n",
        "\n",
        "df_GRCArehab = df_gcatbird.loc[df_gcatbird['rehab'] == \"Y\"]\n",
        "print('GRCA Rehab Count: ' + str(len(df_GRCArehab.motusTagID.unique()))) # of the rehab, total number unique banded\n",
        "print('GRCA Rehab Tags: ' + str(df_GRCArehab.motusTagID.unique())) # of the rehab, unique tags\n",
        "\n",
        "\n",
        "df_GRCAwild = df_gcatbird.loc[df_gcatbird['rehab'] == \"N\"]\n",
        "print('GRCA Wild Count: ' + str(len(df_GRCAwild.motusTagID.unique()))) # of the wild, total number unique banded\n",
        "print('GRCA Wild Tags: ' + str(df_GRCAwild.motusTagID.unique())) # of the wild, unique tags\n",
        "\n",
        "print('Total Detections Rehab: ' + str(len(df_gcatbird.loc[df_gcatbird['rehab'] == \"Y\"]))) #total detections rehab\n",
        "print('Total Detections Wild: '+ str(len(df_gcatbird.loc[df_gcatbird['rehab'] == \"N\"]))) #total detections wild\n",
        "\n",
        "# Release receivers that picked up tags - groupby size\n",
        "df_gcatbird.groupby('recvDeployName').size()"
      ],
      "execution_count": 13,
      "outputs": [
        {
          "output_type": "stream",
          "text": [
            "GRCA Rehab Count: 6\n",
            "GRCA Rehab Tags: [28446 28429 28441 28436 28453 28422]\n",
            "GRCA Wild Count: 3\n",
            "GRCA Wild Tags: [28460 28458 24376]\n",
            "Total Detections Rehab: 12347\n",
            "Total Detections Wild: 11\n"
          ],
          "name": "stdout"
        },
        {
          "output_type": "execute_result",
          "data": {
            "text/plain": [
              "recvDeployName\n",
              "43.6:-79.35              4\n",
              "Binbrook                 1\n",
              "Gerdau                   1\n",
              "Girard                   2\n",
              "Lakeview Landfill        3\n",
              "Long_Point_Tip           1\n",
              "PARC Banding             3\n",
              "PARC CMNH                7\n",
              "PARC Honey Hut       12326\n",
              "PARC Mt. Laurel          1\n",
              "PKR_salt_pannes          4\n",
              "PresqueIsle              1\n",
              "WAQT                     4\n",
              "dtype: int64"
            ]
          },
          "metadata": {
            "tags": []
          },
          "execution_count": 13
        }
      ]
    },
    {
      "cell_type": "code",
      "metadata": {
        "id": "ttKs1bZzIm-M",
        "colab_type": "code",
        "outputId": "132c16fe-1a7b-4992-b584-47b3dd8e8abc",
        "colab": {
          "base_uri": "https://localhost:8080/",
          "height": 323
        }
      },
      "source": [
        "# 8. EDA by Species - OVEN \n",
        "# Separate by species\n",
        "df_ovenbird = df_detections.loc[df_detections['speciesEN.x'] == \"Ovenbird\"]\n",
        "\n",
        "df_OVENrehab = df_ovenbird.loc[df_ovenbird['rehab'] == \"Y\"]\n",
        "print('OVEN Rehab Count: ' + str(len(df_OVENrehab.motusTagID.unique()))) # of the rehab, total number unique banded\n",
        "print('OVEN Rehab Tags: ' + str(df_OVENrehab.motusTagID.unique())) # of the rehab, unique tags\n",
        "\n",
        "\n",
        "df_OVENwild = df_ovenbird.loc[df_ovenbird['rehab'] == \"N\"]\n",
        "print('OVEN Wild Count: ' + str(len(df_OVENwild.motusTagID.unique()))) # of the wild, total number unique banded\n",
        "print('OVEN Wild Tags: ' + str(df_OVENwild.motusTagID.unique())) # of the wild, unique tags\n",
        "\n",
        "print('Total Detections Rehab: '+ str(len(df_ovenbird.loc[df_ovenbird['rehab'] == \"Y\"]))) #total detections rehab\n",
        "print('Total Detections Wild: ' + str(len(df_ovenbird.loc[df_ovenbird['rehab'] == \"N\"]))) #total detections wild\n",
        "\n",
        "# Release receivers that picked up tags - groupby size\n",
        "df_ovenbird.groupby('recvDeployName').size()"
      ],
      "execution_count": 14,
      "outputs": [
        {
          "output_type": "stream",
          "text": [
            "OVEN Rehab Count: 4\n",
            "OVEN Rehab Tags: [28425 28452 28427 24345]\n",
            "OVEN Wild Count: 2\n",
            "OVEN Wild Tags: [28761 28450]\n",
            "Total Detections Rehab: 74\n",
            "Total Detections Wild: 3\n"
          ],
          "name": "stdout"
        },
        {
          "output_type": "execute_result",
          "data": {
            "text/plain": [
              "recvDeployName\n",
              "43.6:-79.35                 6\n",
              "Churchill - CNSC            2\n",
              "Churchill - Fen            15\n",
              "Curries                     1\n",
              "D'Estimauville              8\n",
              "Dunkirk Lighthouse          1\n",
              "Merlin                      1\n",
              "PARC Honey Hut             41\n",
              "Rondeau_Provincial_Park     1\n",
              "Sunset Farm                 1\n",
              "dtype: int64"
            ]
          },
          "metadata": {
            "tags": []
          },
          "execution_count": 14
        }
      ]
    },
    {
      "cell_type": "code",
      "metadata": {
        "id": "VIXA8MuXIm-Q",
        "colab_type": "code",
        "outputId": "5976e35d-28b6-4be2-c424-3692d4f22cab",
        "colab": {
          "base_uri": "https://localhost:8080/",
          "height": 306
        }
      },
      "source": [
        "# 9. EDA by Species - WOTH \n",
        "# Separate by species\n",
        "df_woodthrush = df_detections.loc[df_detections['speciesEN.x'] == \"Wood Thrush\"]\n",
        "df_WOTHrehab = df_woodthrush.loc[df_woodthrush['rehab'] == \"Y\"]\n",
        "df_WOTHwild = df_woodthrush.loc[df_woodthrush['rehab'] == \"N\"]\n",
        "print('WOTH Rehab Count: ' + str(len(df_WOTHrehab.motusTagID.unique()))) # of the rehab, total number unique banded\n",
        "print('WOTH Rehab Tags: ' + str(df_WOTHrehab.motusTagID.unique())) # of the rehab, unique tags\n",
        "\n",
        "print('WOTH Wild Count: ' + str(len(df_WOTHwild.motusTagID.unique()))) # of the wild, total number unique banded\n",
        "print('WOTH Wild Tags: ' + str(df_WOTHwild.motusTagID.unique())) # of the wild, unique tags\n",
        "\n",
        "print('Total Detections Rehab: ' + str(len(df_woodthrush.loc[df_woodthrush['rehab'] == \"Y\"])))\n",
        "print('Total Detections Wild: ' + str(len(df_woodthrush.loc[df_woodthrush['rehab'] == \"N\"])))\n",
        "\n",
        "# Release receivers that picked up tags - groupby size\n",
        "df_woodthrush.groupby('recvDeployName').size()"
      ],
      "execution_count": 15,
      "outputs": [
        {
          "output_type": "stream",
          "text": [
            "WOTH Rehab Count: 3\n",
            "WOTH Rehab Tags: [28457 28448 28455]\n",
            "WOTH Wild Count: 3\n",
            "WOTH Wild Tags: [28763 28434 28440]\n",
            "Total Detections Rehab: 801\n",
            "Total Detections Wild: 8572\n"
          ],
          "name": "stdout"
        },
        {
          "output_type": "execute_result",
          "data": {
            "text/plain": [
              "recvDeployName\n",
              "43.6:-79.35              2\n",
              "Dunkirk Lighthouse       3\n",
              "Falconer_Farm            3\n",
              "Girard                   3\n",
              "Lakeview Landfill        4\n",
              "PARC Banding          8572\n",
              "PARC Honey Hut         782\n",
              "Waterford_Quarry         1\n",
              "the Wilds                3\n",
              "dtype: int64"
            ]
          },
          "metadata": {
            "tags": []
          },
          "execution_count": 15
        }
      ]
    },
    {
      "cell_type": "code",
      "metadata": {
        "id": "Uv9HcEI7Im-S",
        "colab_type": "code",
        "outputId": "dedab839-17fa-47c7-acb6-000b36dfc5f7",
        "colab": {
          "base_uri": "https://localhost:8080/",
          "height": 306
        }
      },
      "source": [
        "# 10. EDA by Species - MAWA \n",
        "# Separate by species\n",
        "df_magwarbler = df_detections.loc[df_detections['speciesEN.x'] == \"Magnolia Warbler\"]\n",
        "\n",
        "df_MWrehab = df_magwarbler.loc[df_magwarbler['rehab'] == \"Y\"]\n",
        "print('MAWA Rehab Count: ' + str(len(df_MWrehab.motusTagID.unique()))) # of the rehab, total number unique banded\n",
        "print('MAWA Rehab Tags: ' + str(df_MWrehab.motusTagID.unique())) # of the rehab, unique tags\n",
        "\n",
        "\n",
        "df_MWwild = df_magwarbler.loc[df_magwarbler['rehab'] == \"N\"]\n",
        "print('MAWA Wild Count: ' + str(len(df_MWwild.motusTagID.unique()))) # of the wild, total number unique banded\n",
        "print('MAWA Wild Count: ' + str(df_MWwild.motusTagID.unique())) # of the wild, unique tags\n",
        "\n",
        "print('Total Detections Rehab: ' + str(len(df_magwarbler.loc[df_magwarbler['rehab'] == \"Y\"])))\n",
        "print('Total Detections Wild: ' + str(len(df_magwarbler.loc[df_magwarbler['rehab'] == \"N\"])))\n",
        "\n",
        "# Release receivers that picked up tags - groupby size\n",
        "df_magwarbler.groupby('recvDeployName').size()"
      ],
      "execution_count": 16,
      "outputs": [
        {
          "output_type": "stream",
          "text": [
            "MAWA Rehab Count: 3\n",
            "MAWA Rehab Tags: [28433 28419 28415]\n",
            "MAWA Wild Count: 2\n",
            "MAWA Wild Count: [28412 28413]\n",
            "Total Detections Rehab: 716\n",
            "Total Detections Wild: 3\n"
          ],
          "name": "stdout"
        },
        {
          "output_type": "execute_result",
          "data": {
            "text/plain": [
              "recvDeployName\n",
              "43.6:-79.35               1\n",
              "47.45:-70.05              1\n",
              "D'Estimauville            1\n",
              "Napanee LOSH              1\n",
              "PARC Honey Hut          706\n",
              "Pointe ‡ la Loupe         2\n",
              "Pointe-aux-Outardes       1\n",
              "St-Roch-des-Aulnaies      4\n",
              "Sunset Farm               2\n",
              "dtype: int64"
            ]
          },
          "metadata": {
            "tags": []
          },
          "execution_count": 16
        }
      ]
    },
    {
      "cell_type": "code",
      "metadata": {
        "id": "qbHz6IjKIm-V",
        "colab_type": "code",
        "outputId": "3df0903b-7772-4e7d-a185-29b186810ee5",
        "colab": {
          "base_uri": "https://localhost:8080/",
          "height": 408
        }
      },
      "source": [
        "# 11. Receivers EDA - Basic \n",
        "# a. num of different release sites\n",
        "print('Total # of release sites: ' + str(len(df_detections['release.site'].unique()))) # different release sites\n",
        "# b. num of different recvs\n",
        "print('Total # of receivers: ' + str(len(df_detections['recvDeployName'].unique())))\n",
        "# c. names of different recvs\n",
        "print(df_detections['recvDeployName'].unique()) # different receiver deployments\n",
        "# d. group recvs by their total count, top 5\n",
        "df_detections.groupby(['recvDeployName']).size().reset_index(name = 'count').sort_values(by = 'count', ascending = False).head()"
      ],
      "execution_count": 17,
      "outputs": [
        {
          "output_type": "stream",
          "text": [
            "Total # of release sites: 4\n",
            "Total # of receivers: 37\n",
            "['Long_Point_Tip' 'Girard' 'PresqueIsle' 'Brighton' 'Gerdau'\n",
            " 'PARC Honey Hut' 'Binbrook' 'Rondeau_Provincial_Park'\n",
            " 'Flamborough_Quarry' 'Earl_Rowe_PP' 'Curries' '43.6:-79.35' 'Merlin'\n",
            " 'Falconer_Farm' 'Waterford_Quarry' 'PARC CMNH' 'Lakeview Landfill'\n",
            " 'PARC Banding' 'Dunkirk Lighthouse' 'PARC Mt. Laurel' 'Napanee LOSH'\n",
            " \"D'Estimauville\" 'Morgan Rd. Office 1' 'St-Roch-des-Aulnaies'\n",
            " '47.45:-70.05' 'Pointe ‡ la Loupe' 'Pointe-aux-Outardes'\n",
            " 'PKR_salt_pannes' 'WAQT' 'Sunset Farm' 'Churchill - CNSC'\n",
            " 'Churchill - Fen' 'the Wilds' 'Haldimand Raptor Reserve' 'Ruthven'\n",
            " 'Nanticoke' '39.8:-79.7']\n"
          ],
          "name": "stdout"
        },
        {
          "output_type": "execute_result",
          "data": {
            "text/html": [
              "<div>\n",
              "<style scoped>\n",
              "    .dataframe tbody tr th:only-of-type {\n",
              "        vertical-align: middle;\n",
              "    }\n",
              "\n",
              "    .dataframe tbody tr th {\n",
              "        vertical-align: top;\n",
              "    }\n",
              "\n",
              "    .dataframe thead th {\n",
              "        text-align: right;\n",
              "    }\n",
              "</style>\n",
              "<table border=\"1\" class=\"dataframe\">\n",
              "  <thead>\n",
              "    <tr style=\"text-align: right;\">\n",
              "      <th></th>\n",
              "      <th>recvDeployName</th>\n",
              "      <th>count</th>\n",
              "    </tr>\n",
              "  </thead>\n",
              "  <tbody>\n",
              "    <tr>\n",
              "      <th>24</th>\n",
              "      <td>PARC Honey Hut</td>\n",
              "      <td>13948</td>\n",
              "    </tr>\n",
              "    <tr>\n",
              "      <th>22</th>\n",
              "      <td>PARC Banding</td>\n",
              "      <td>9877</td>\n",
              "    </tr>\n",
              "    <tr>\n",
              "      <th>6</th>\n",
              "      <td>Churchill - Fen</td>\n",
              "      <td>15</td>\n",
              "    </tr>\n",
              "    <tr>\n",
              "      <th>1</th>\n",
              "      <td>43.6:-79.35</td>\n",
              "      <td>13</td>\n",
              "    </tr>\n",
              "    <tr>\n",
              "      <th>17</th>\n",
              "      <td>Long_Point_Tip</td>\n",
              "      <td>12</td>\n",
              "    </tr>\n",
              "  </tbody>\n",
              "</table>\n",
              "</div>"
            ],
            "text/plain": [
              "     recvDeployName  count\n",
              "24   PARC Honey Hut  13948\n",
              "22     PARC Banding   9877\n",
              "6   Churchill - Fen     15\n",
              "1       43.6:-79.35     13\n",
              "17   Long_Point_Tip     12"
            ]
          },
          "metadata": {
            "tags": []
          },
          "execution_count": 17
        }
      ]
    },
    {
      "cell_type": "code",
      "metadata": {
        "id": "c8oMEsyXIm-Y",
        "colab_type": "code",
        "outputId": "c8a0399d-c00e-48b1-f8b8-446a90ec4197",
        "colab": {
          "base_uri": "https://localhost:8080/",
          "height": 153
        }
      },
      "source": [
        "# 12. Receivers EDA - See which recvs got which tags\n",
        "# a. Make new receiver df \n",
        "df_recByTag = df_detections.groupby(['recvDeployName', \n",
        "                'motusTagID']).size().reset_index(name = 'count').sort_values(by = 'count', ascending = False)\n",
        "\n",
        "# b. and then join on rehab col\n",
        "df_recByTag = pd.merge(df_recByTag,df_detections[['motusTagID', 'rehab']],on='motusTagID', how='left')\n",
        "\n",
        "# c. Removing duplicates caused by count\n",
        "df_recByTag = df_recByTag.drop_duplicates()\n",
        "df_recByTag.head(50)\n",
        "\n",
        "# d. make new df for unique tags of each receiver\n",
        "df_recUniTags = df_recByTag.groupby('recvDeployName', sort=False).motusTagID.unique().to_frame('UniqueTags')\n",
        "df_recUniTags['TotalTags'] = df_recUniTags['UniqueTags'].str.len()\n",
        "\n",
        "# e. recvs with more than one tag\n",
        "df_recvslist = df_recUniTags.loc[df_recUniTags['TotalTags'] > 1].reset_index()\n",
        "\n",
        "# f. as list - recvs with more than one tag\n",
        "list_recvsover1 = df_recvslist['recvDeployName'].tolist()\n",
        "\n",
        "print('Number of receivers that detected more than one tag: ' + str(len(list_recvsover1)))\n",
        "\n",
        "\n",
        "# e. view top 5 receivers by the number of unique tags they detected\n",
        "print(df_recUniTags.nlargest(5, 'TotalTags'))"
      ],
      "execution_count": 18,
      "outputs": [
        {
          "output_type": "stream",
          "text": [
            "Number of receivers that detected more than one tag: 13\n",
            "                                                       UniqueTags  TotalTags\n",
            "recvDeployName                                                              \n",
            "PARC Honey Hut  [28436, 28415, 28457, 28422, 28446, 28448, 284...         14\n",
            "PARC Banding                  [28763, 28445, 28434, 28440, 24376]          5\n",
            "Long_Point_Tip                [28451, 28423, 28460, 28414, 28426]          5\n",
            "43.6:-79.35                   [28452, 28458, 28455, 28761, 28412]          5\n",
            "Girard                                      [28457, 28451, 28441]          3\n"
          ],
          "name": "stdout"
        }
      ]
    },
    {
      "cell_type": "code",
      "metadata": {
        "id": "0e3KHMaWIm-a",
        "colab_type": "code",
        "outputId": "97e0d28e-04d4-4ebe-b3d2-5d614f6e406a",
        "colab": {
          "base_uri": "https://localhost:8080/",
          "height": 68
        }
      },
      "source": [
        "# 13. Receivers EDA - Which tags were detected by more than one receiver?\n",
        "# a. as new df - group by tagID and then put all the recv names in a list for each as count \n",
        "df_tagsByRecHits = df_recByTag.groupby('motusTagID',\n",
        "                                        sort=False).recvDeployName.unique().to_frame('recvs').reset_index()\n",
        "# b. view the total recvs as length of recvs list\n",
        "df_tagsByRecHits['TotalRecvs'] = df_tagsByRecHits['recvs'].str.len()\n",
        "\n",
        "# c. extract tags in the new df as a list, based on where totalRecvs is greater than X \n",
        "df_tagslist = df_tagsByRecHits.loc[df_tagsByRecHits['TotalRecvs'] > 1]\n",
        "list_over1 = df_tagslist['motusTagID'].tolist()\n",
        "\n",
        "df_tagslist3 = df_tagsByRecHits.loc[df_tagsByRecHits['TotalRecvs'] >= 3]\n",
        "list_over3 = df_tagslist3['motusTagID'].tolist()\n",
        "\n",
        "df_tagslist5 = df_tagsByRecHits.loc[df_tagsByRecHits['TotalRecvs'] >= 5]\n",
        "list_over5 = df_tagslist5['motusTagID'].tolist()\n",
        "\n",
        "#d. how many tags detected more ONCE, more than 3 times, more than 5 times? \n",
        "print('Number of Tags detected more than once: ' + str(len(list_over1)))\n",
        "print('Number of Tags detected at least 3 times: ' + str(len(list_over3)))\n",
        "print('Number of Tags detected at least 5 times: ' + str(len(list_over5)))\n",
        "\n"
      ],
      "execution_count": 19,
      "outputs": [
        {
          "output_type": "stream",
          "text": [
            "Number of Tags detected more than once: 16\n",
            "Number of Tags detected at least 3 times: 9\n",
            "Number of Tags detected at least 5 times: 3\n"
          ],
          "name": "stdout"
        }
      ]
    },
    {
      "cell_type": "code",
      "metadata": {
        "id": "MAu-d1LwIm-e",
        "colab_type": "code",
        "outputId": "c63f3f74-840e-455f-906e-7273b08e6282",
        "colab": {
          "base_uri": "https://localhost:8080/",
          "height": 204
        }
      },
      "source": [
        "# 13.1 Receivers EDA - View which recvs picked up rehab and wild birds\n",
        "# a. grouping recvs, by unique rehab detections - putting them in a col called count \n",
        "df_recUniRehab = df_recByTag.groupby('recvDeployName', \n",
        "                                     sort=False).rehab.unique().to_frame(name = 'count').reset_index()\n",
        "# b. from col count, getting length as new col \n",
        "df_recUniRehab['wildNrehab'] = df_recUniRehab['count'].str.len()\n",
        "df_recUniRehab.head()"
      ],
      "execution_count": 20,
      "outputs": [
        {
          "output_type": "execute_result",
          "data": {
            "text/html": [
              "<div>\n",
              "<style scoped>\n",
              "    .dataframe tbody tr th:only-of-type {\n",
              "        vertical-align: middle;\n",
              "    }\n",
              "\n",
              "    .dataframe tbody tr th {\n",
              "        vertical-align: top;\n",
              "    }\n",
              "\n",
              "    .dataframe thead th {\n",
              "        text-align: right;\n",
              "    }\n",
              "</style>\n",
              "<table border=\"1\" class=\"dataframe\">\n",
              "  <thead>\n",
              "    <tr style=\"text-align: right;\">\n",
              "      <th></th>\n",
              "      <th>recvDeployName</th>\n",
              "      <th>count</th>\n",
              "      <th>wildNrehab</th>\n",
              "    </tr>\n",
              "  </thead>\n",
              "  <tbody>\n",
              "    <tr>\n",
              "      <th>0</th>\n",
              "      <td>PARC Honey Hut</td>\n",
              "      <td>[Y]</td>\n",
              "      <td>1</td>\n",
              "    </tr>\n",
              "    <tr>\n",
              "      <th>1</th>\n",
              "      <td>PARC Banding</td>\n",
              "      <td>[N]</td>\n",
              "      <td>1</td>\n",
              "    </tr>\n",
              "    <tr>\n",
              "      <th>2</th>\n",
              "      <td>Churchill - Fen</td>\n",
              "      <td>[Y]</td>\n",
              "      <td>1</td>\n",
              "    </tr>\n",
              "    <tr>\n",
              "      <th>3</th>\n",
              "      <td>D'Estimauville</td>\n",
              "      <td>[Y, N]</td>\n",
              "      <td>2</td>\n",
              "    </tr>\n",
              "    <tr>\n",
              "      <th>4</th>\n",
              "      <td>PARC CMNH</td>\n",
              "      <td>[Y]</td>\n",
              "      <td>1</td>\n",
              "    </tr>\n",
              "  </tbody>\n",
              "</table>\n",
              "</div>"
            ],
            "text/plain": [
              "    recvDeployName   count  wildNrehab\n",
              "0   PARC Honey Hut     [Y]           1\n",
              "1     PARC Banding     [N]           1\n",
              "2  Churchill - Fen     [Y]           1\n",
              "3   D'Estimauville  [Y, N]           2\n",
              "4        PARC CMNH     [Y]           1"
            ]
          },
          "metadata": {
            "tags": []
          },
          "execution_count": 20
        }
      ]
    },
    {
      "cell_type": "code",
      "metadata": {
        "id": "xLbzNotdIm-i",
        "colab_type": "code",
        "colab": {}
      },
      "source": [
        "# 13.2 Receivers EDA - View which recvs picked up rehab and wild birds\n",
        "# FINICKY \n",
        "# c. map true false using a dictionary\n",
        "di = {1: False, 2: True}\n",
        "df_recUniRehab['wildNrehab'] = df_recUniRehab['wildNrehab'].replace(di)\n",
        "\n",
        "# d. save which recvs are true as new df\n",
        "df_recUniRehab2 = df_recUniRehab.loc[df_recUniRehab['wildNrehab'] == True].reset_index()\n",
        "\n",
        "# BELOW IS OLD \n",
        "# df_recUniRehab.head(10)\n",
        "#df_recUniRehab.info()\n",
        "\n",
        "# df_recUniRehab[df_recUniRehab['wildNrehab'== 'TRUE']]\n",
        "#df_recUniRehab.loc[df_recUniRehab['wildNrehab'] == True]"
      ],
      "execution_count": 0,
      "outputs": []
    },
    {
      "cell_type": "code",
      "metadata": {
        "id": "RdciKVfoIm-k",
        "colab_type": "code",
        "outputId": "7e13fcec-f84c-4f11-c5ec-5271b3e52592",
        "colab": {
          "base_uri": "https://localhost:8080/",
          "height": 54
        }
      },
      "source": [
        "# 13.3 Receivers EDA - View which recvs picked up rehab and wild birds\n",
        "# e. using last df - put the recvs names with both detections as list\n",
        "list_recvsWildnRehab = df_recUniRehab2['recvDeployName'].tolist()\n",
        "# f. view list\n",
        "print('Recvs detecting both wild and rehab: ' + str(list_recvsWildnRehab))"
      ],
      "execution_count": 22,
      "outputs": [
        {
          "output_type": "stream",
          "text": [
            "Recvs detecting both wild and rehab: [\"D'Estimauville\", 'Long_Point_Tip', '43.6:-79.35', 'Dunkirk Lighthouse']\n"
          ],
          "name": "stdout"
        }
      ]
    },
    {
      "cell_type": "markdown",
      "metadata": {
        "id": "WQNvWwbwz7eZ",
        "colab_type": "text"
      },
      "source": [
        "## Probability of Detection"
      ]
    },
    {
      "cell_type": "code",
      "metadata": {
        "id": "ZxBMmVcvIm-n",
        "colab_type": "code",
        "outputId": "6b78ce00-c2be-474e-b3b7-8f2ade9ed662",
        "colab": {
          "base_uri": "https://localhost:8080/",
          "height": 119
        }
      },
      "source": [
        "# 14. Review probability of being detected\n",
        "\n",
        "# a. what is the total number of detections\n",
        "df_rehabOnly = df_detections.loc[df_detections['rehab'] == 'Y']\n",
        "print(df_rehabOnly.shape) # shows there are 14,056 observations\n",
        "\n",
        "# b. how many unique recvs for rehab only? \n",
        "print('Total number rehab recvs: ' + str(len(df_rehabOnly['recvDeployName'].unique())))\n",
        "\n",
        "# c. how many different birds are rehab? \n",
        "print('Total number rehab birds: ' + str(len(df_rehabOnly['motusTagID'].unique())))\n",
        "\n",
        "# d. what is the total number of detections for just rehab birds\n",
        "df_wildOnly = df_detections.loc[df_detections['rehab'] == 'N']\n",
        "print(df_wildOnly.shape) # shows there are 9899 observations\n",
        "\n",
        "# e. how many unique recvs for wild only? \n",
        "print('Total number wild recvs: ' +str(len(df_wildOnly['recvDeployName'].unique())))\n",
        "\n",
        "# f. how many different birds are wild? \n",
        "print('Total number wild birds: ' + str(len(df_wildOnly['motusTagID'].unique())))"
      ],
      "execution_count": 23,
      "outputs": [
        {
          "output_type": "stream",
          "text": [
            "(14056, 23)\n",
            "Total number rehab recvs: 29\n",
            "Total number rehab birds: 21\n",
            "(9899, 23)\n",
            "Total number wild recvs: 12\n",
            "Total number wild birds: 15\n"
          ],
          "name": "stdout"
        }
      ]
    },
    {
      "cell_type": "code",
      "metadata": {
        "id": "XlwQ0mjzjIcL",
        "colab_type": "code",
        "outputId": "81239318-721f-4d83-a7ee-ffd3f9bf333b",
        "colab": {
          "base_uri": "https://localhost:8080/",
          "height": 530
        }
      },
      "source": [
        "# NORMALIZED\n",
        "# 14. Review probability of being detected\n",
        "\n",
        "df_genNrml = df_detections.sort_values('ts.h').drop_duplicates('recvDeployName',keep='last')\n",
        "\n",
        "# a. what is the total number of detections\n",
        "df_rehabOnly2 = df_genNrml.loc[df_genNrml['rehab'] == 'Y']\n",
        "print(df_rehabOnly2.shape) # shows there are 14,056 observations\n",
        "\n",
        "# b. how many unique recvs for rehab only? \n",
        "print('Total number rehab recvs: ' + str(len(df_rehabOnly2['recvDeployName'].unique())))\n",
        "\n",
        "# c. how many different birds are rehab? \n",
        "print('Total number rehab birds: ' + str(len(df_rehabOnly2['motusTagID'].unique())))\n",
        "\n",
        "# d. what is the total number of detections for just rehab birds\n",
        "df_wildOnly2 = df_genNrml.loc[df_detections['rehab'] == 'N']\n",
        "print(df_wildOnly2.shape) # shows there are 9899 observations\n",
        "\n",
        "# e. how many unique recvs for wild only? \n",
        "print('Total number wild recvs: ' +str(len(df_wildOnly2['recvDeployName'].unique())))\n",
        "\n",
        "# f. how many different birds are wild? \n",
        "print('Total number wild birds: ' + str(len(df_wildOnly2['motusTagID'].unique())))\n",
        "\n",
        "df_genNrml.head()\n"
      ],
      "execution_count": 24,
      "outputs": [
        {
          "output_type": "stream",
          "text": [
            "(29, 23)\n",
            "Total number rehab recvs: 29\n",
            "Total number rehab birds: 12\n",
            "(8, 23)\n",
            "Total number wild recvs: 8\n",
            "Total number wild birds: 7\n"
          ],
          "name": "stdout"
        },
        {
          "output_type": "execute_result",
          "data": {
            "text/html": [
              "<div>\n",
              "<style scoped>\n",
              "    .dataframe tbody tr th:only-of-type {\n",
              "        vertical-align: middle;\n",
              "    }\n",
              "\n",
              "    .dataframe tbody tr th {\n",
              "        vertical-align: top;\n",
              "    }\n",
              "\n",
              "    .dataframe thead th {\n",
              "        text-align: right;\n",
              "    }\n",
              "</style>\n",
              "<table border=\"1\" class=\"dataframe\">\n",
              "  <thead>\n",
              "    <tr style=\"text-align: right;\">\n",
              "      <th></th>\n",
              "      <th>Unnamed: 0</th>\n",
              "      <th>motusTagID</th>\n",
              "      <th>tagDeployLon</th>\n",
              "      <th>tagDeployLat</th>\n",
              "      <th>speciesEN.x</th>\n",
              "      <th>recvDeployName</th>\n",
              "      <th>ts.h</th>\n",
              "      <th>recvLat</th>\n",
              "      <th>recvLon</th>\n",
              "      <th>tag</th>\n",
              "      <th>rehab</th>\n",
              "      <th>rehab.intake.date</th>\n",
              "      <th>condition</th>\n",
              "      <th>age</th>\n",
              "      <th>sex</th>\n",
              "      <th>speciesEN.y</th>\n",
              "      <th>release.site</th>\n",
              "      <th>releaseDate</th>\n",
              "      <th>releaseTimeUTC</th>\n",
              "      <th>time in custody (days)</th>\n",
              "      <th>relLat</th>\n",
              "      <th>relLong</th>\n",
              "      <th>DaysSinceRehab</th>\n",
              "    </tr>\n",
              "  </thead>\n",
              "  <tbody>\n",
              "    <tr>\n",
              "      <th>5</th>\n",
              "      <td>6</td>\n",
              "      <td>28414</td>\n",
              "      <td>-80.0861</td>\n",
              "      <td>42.1602</td>\n",
              "      <td>White-throated Sparrow</td>\n",
              "      <td>Brighton</td>\n",
              "      <td>2018-05-02 04:40:51</td>\n",
              "      <td>44.00</td>\n",
              "      <td>-77.75</td>\n",
              "      <td>234</td>\n",
              "      <td>N</td>\n",
              "      <td>NaT</td>\n",
              "      <td>NaN</td>\n",
              "      <td>ASY`</td>\n",
              "      <td>M</td>\n",
              "      <td>WTSP</td>\n",
              "      <td>FRYS</td>\n",
              "      <td>5/1/18</td>\n",
              "      <td>8:20</td>\n",
              "      <td>NaN</td>\n",
              "      <td>42.160200</td>\n",
              "      <td>-80.086100</td>\n",
              "      <td>NaN</td>\n",
              "    </tr>\n",
              "    <tr>\n",
              "      <th>49</th>\n",
              "      <td>50</td>\n",
              "      <td>28425</td>\n",
              "      <td>-81.9377</td>\n",
              "      <td>41.4861</td>\n",
              "      <td>Ovenbird</td>\n",
              "      <td>Rondeau_Provincial_Park</td>\n",
              "      <td>2018-05-09 04:47:17</td>\n",
              "      <td>42.30</td>\n",
              "      <td>-81.85</td>\n",
              "      <td>229</td>\n",
              "      <td>Y</td>\n",
              "      <td>2018-05-06 12:00:00</td>\n",
              "      <td>mild</td>\n",
              "      <td>ASY</td>\n",
              "      <td>U</td>\n",
              "      <td>OVEN</td>\n",
              "      <td>LENSC</td>\n",
              "      <td>5/8/18</td>\n",
              "      <td>17:35</td>\n",
              "      <td>2.0</td>\n",
              "      <td>41.486113</td>\n",
              "      <td>-81.937744</td>\n",
              "      <td>2.0</td>\n",
              "    </tr>\n",
              "    <tr>\n",
              "      <th>51</th>\n",
              "      <td>52</td>\n",
              "      <td>28423</td>\n",
              "      <td>-81.9377</td>\n",
              "      <td>41.4861</td>\n",
              "      <td>White-throated Sparrow</td>\n",
              "      <td>Flamborough_Quarry</td>\n",
              "      <td>2018-05-09 05:00:00</td>\n",
              "      <td>43.30</td>\n",
              "      <td>-80.00</td>\n",
              "      <td>227</td>\n",
              "      <td>Y</td>\n",
              "      <td>2018-05-02 12:00:00</td>\n",
              "      <td>moderate</td>\n",
              "      <td>ASY</td>\n",
              "      <td>U</td>\n",
              "      <td>WTSP</td>\n",
              "      <td>LENSC</td>\n",
              "      <td>5/2/18</td>\n",
              "      <td>18:24</td>\n",
              "      <td>0.0</td>\n",
              "      <td>41.486113</td>\n",
              "      <td>-81.937744</td>\n",
              "      <td>6.0</td>\n",
              "    </tr>\n",
              "    <tr>\n",
              "      <th>74</th>\n",
              "      <td>75</td>\n",
              "      <td>28425</td>\n",
              "      <td>-81.9377</td>\n",
              "      <td>41.4861</td>\n",
              "      <td>Ovenbird</td>\n",
              "      <td>Curries</td>\n",
              "      <td>2018-05-09 08:09:25</td>\n",
              "      <td>43.05</td>\n",
              "      <td>-80.75</td>\n",
              "      <td>229</td>\n",
              "      <td>Y</td>\n",
              "      <td>2018-05-06 12:00:00</td>\n",
              "      <td>mild</td>\n",
              "      <td>ASY</td>\n",
              "      <td>U</td>\n",
              "      <td>OVEN</td>\n",
              "      <td>LENSC</td>\n",
              "      <td>5/8/18</td>\n",
              "      <td>17:35</td>\n",
              "      <td>2.0</td>\n",
              "      <td>41.486113</td>\n",
              "      <td>-81.937744</td>\n",
              "      <td>2.0</td>\n",
              "    </tr>\n",
              "    <tr>\n",
              "      <th>795</th>\n",
              "      <td>728</td>\n",
              "      <td>28427</td>\n",
              "      <td>-81.9377</td>\n",
              "      <td>41.4861</td>\n",
              "      <td>Ovenbird</td>\n",
              "      <td>Merlin</td>\n",
              "      <td>2018-05-15 03:52:53</td>\n",
              "      <td>42.20</td>\n",
              "      <td>-82.15</td>\n",
              "      <td>230</td>\n",
              "      <td>Y</td>\n",
              "      <td>2018-05-05 12:00:00</td>\n",
              "      <td>mild</td>\n",
              "      <td>ASY</td>\n",
              "      <td>U</td>\n",
              "      <td>OVEN</td>\n",
              "      <td>LENSC</td>\n",
              "      <td>5/8/18</td>\n",
              "      <td>17:24</td>\n",
              "      <td>3.0</td>\n",
              "      <td>41.486113</td>\n",
              "      <td>-81.937744</td>\n",
              "      <td>9.0</td>\n",
              "    </tr>\n",
              "  </tbody>\n",
              "</table>\n",
              "</div>"
            ],
            "text/plain": [
              "     Unnamed: 0  motusTagID  tagDeployLon  ...     relLat    relLong DaysSinceRehab\n",
              "5             6       28414      -80.0861  ...  42.160200 -80.086100            NaN\n",
              "49           50       28425      -81.9377  ...  41.486113 -81.937744            2.0\n",
              "51           52       28423      -81.9377  ...  41.486113 -81.937744            6.0\n",
              "74           75       28425      -81.9377  ...  41.486113 -81.937744            2.0\n",
              "795         728       28427      -81.9377  ...  41.486113 -81.937744            9.0\n",
              "\n",
              "[5 rows x 23 columns]"
            ]
          },
          "metadata": {
            "tags": []
          },
          "execution_count": 24
        }
      ]
    },
    {
      "cell_type": "code",
      "metadata": {
        "id": "Stnsol48nIkg",
        "colab_type": "code",
        "outputId": "c7818b7a-d6b4-4a0d-86e6-8aefbc85249c",
        "colab": {
          "base_uri": "https://localhost:8080/",
          "height": 421
        }
      },
      "source": [
        "# 14.1 Review probability of being detected by species\n",
        "df_probSpe = df_detections.groupby(['speciesEN.x', 'rehab']).size().reset_index()\n",
        "\n",
        "df_probSpe"
      ],
      "execution_count": 25,
      "outputs": [
        {
          "output_type": "execute_result",
          "data": {
            "text/html": [
              "<div>\n",
              "<style scoped>\n",
              "    .dataframe tbody tr th:only-of-type {\n",
              "        vertical-align: middle;\n",
              "    }\n",
              "\n",
              "    .dataframe tbody tr th {\n",
              "        vertical-align: top;\n",
              "    }\n",
              "\n",
              "    .dataframe thead th {\n",
              "        text-align: right;\n",
              "    }\n",
              "</style>\n",
              "<table border=\"1\" class=\"dataframe\">\n",
              "  <thead>\n",
              "    <tr style=\"text-align: right;\">\n",
              "      <th></th>\n",
              "      <th>speciesEN.x</th>\n",
              "      <th>rehab</th>\n",
              "      <th>0</th>\n",
              "    </tr>\n",
              "  </thead>\n",
              "  <tbody>\n",
              "    <tr>\n",
              "      <th>0</th>\n",
              "      <td>American Woodcock</td>\n",
              "      <td>N</td>\n",
              "      <td>1303</td>\n",
              "    </tr>\n",
              "    <tr>\n",
              "      <th>1</th>\n",
              "      <td>American Woodcock</td>\n",
              "      <td>Y</td>\n",
              "      <td>112</td>\n",
              "    </tr>\n",
              "    <tr>\n",
              "      <th>2</th>\n",
              "      <td>Gray Catbird</td>\n",
              "      <td>N</td>\n",
              "      <td>11</td>\n",
              "    </tr>\n",
              "    <tr>\n",
              "      <th>3</th>\n",
              "      <td>Gray Catbird</td>\n",
              "      <td>Y</td>\n",
              "      <td>12347</td>\n",
              "    </tr>\n",
              "    <tr>\n",
              "      <th>4</th>\n",
              "      <td>Magnolia Warbler</td>\n",
              "      <td>N</td>\n",
              "      <td>3</td>\n",
              "    </tr>\n",
              "    <tr>\n",
              "      <th>5</th>\n",
              "      <td>Magnolia Warbler</td>\n",
              "      <td>Y</td>\n",
              "      <td>716</td>\n",
              "    </tr>\n",
              "    <tr>\n",
              "      <th>6</th>\n",
              "      <td>Ovenbird</td>\n",
              "      <td>N</td>\n",
              "      <td>3</td>\n",
              "    </tr>\n",
              "    <tr>\n",
              "      <th>7</th>\n",
              "      <td>Ovenbird</td>\n",
              "      <td>Y</td>\n",
              "      <td>74</td>\n",
              "    </tr>\n",
              "    <tr>\n",
              "      <th>8</th>\n",
              "      <td>White-throated Sparrow</td>\n",
              "      <td>N</td>\n",
              "      <td>7</td>\n",
              "    </tr>\n",
              "    <tr>\n",
              "      <th>9</th>\n",
              "      <td>White-throated Sparrow</td>\n",
              "      <td>Y</td>\n",
              "      <td>6</td>\n",
              "    </tr>\n",
              "    <tr>\n",
              "      <th>10</th>\n",
              "      <td>Wood Thrush</td>\n",
              "      <td>N</td>\n",
              "      <td>8572</td>\n",
              "    </tr>\n",
              "    <tr>\n",
              "      <th>11</th>\n",
              "      <td>Wood Thrush</td>\n",
              "      <td>Y</td>\n",
              "      <td>801</td>\n",
              "    </tr>\n",
              "  </tbody>\n",
              "</table>\n",
              "</div>"
            ],
            "text/plain": [
              "               speciesEN.x rehab      0\n",
              "0        American Woodcock     N   1303\n",
              "1        American Woodcock     Y    112\n",
              "2             Gray Catbird     N     11\n",
              "3             Gray Catbird     Y  12347\n",
              "4         Magnolia Warbler     N      3\n",
              "5         Magnolia Warbler     Y    716\n",
              "6                 Ovenbird     N      3\n",
              "7                 Ovenbird     Y     74\n",
              "8   White-throated Sparrow     N      7\n",
              "9   White-throated Sparrow     Y      6\n",
              "10             Wood Thrush     N   8572\n",
              "11             Wood Thrush     Y    801"
            ]
          },
          "metadata": {
            "tags": []
          },
          "execution_count": 25
        }
      ]
    },
    {
      "cell_type": "markdown",
      "metadata": {
        "id": "uvUTnqm_Im-p",
        "colab_type": "text"
      },
      "source": [
        "## Assessing Length of Stay Post Release"
      ]
    },
    {
      "cell_type": "code",
      "metadata": {
        "id": "HMgBNbfJIm-q",
        "colab_type": "code",
        "colab": {}
      },
      "source": [
        "# 15. Find out which tower is nearest to the release sites\n",
        "\n",
        "# a. zip release sites lat long in new coordinates col\n",
        "df_detections['relCoordinates'] = list(zip(df_detections['relLong'], df_detections['relLat'])) \n",
        "\n",
        "list_relCoords = df_detections['relCoordinates'].tolist()\n",
        "\n",
        "list_relCoords = list( dict.fromkeys(list_relCoords)) # make list as dict to remove duplicates\n",
        "\n",
        "\n"
      ],
      "execution_count": 0,
      "outputs": []
    },
    {
      "cell_type": "code",
      "metadata": {
        "id": "FGsynuOjIm-s",
        "colab_type": "code",
        "colab": {}
      },
      "source": [
        "# 15.1 Find out which tower is nearest to the release sites\n",
        "\n",
        "# b. zip recv lat long in new coordinates col\n",
        "df_detections['recvsCoordinates'] = list(zip(df_detections['recvLon'], df_detections['recvLat'])) \n",
        "\n",
        "list_recvCoords = df_detections['recvsCoordinates'].tolist()\n",
        "\n",
        "list_recvCoords = list( dict.fromkeys(list_recvCoords)) # make list as dict to remove duplicates"
      ],
      "execution_count": 0,
      "outputs": []
    },
    {
      "cell_type": "code",
      "metadata": {
        "collapsed": true,
        "id": "Z_H35fu4Im-u",
        "colab_type": "code",
        "outputId": "be154b6f-784d-4737-a8e8-e57345b37472",
        "colab": {
          "base_uri": "https://localhost:8080/",
          "height": 156
        }
      },
      "source": [
        "# 15.2 Find out which tower is nearest to the release sites\n",
        "\n",
        "# c. make both coord lists multi Point\n",
        "list_relCoords = MultiPoint(list_relCoords)\n",
        "coord0_frys = list_relCoords[0]\n",
        "coord1_lensc = list_relCoords[1]\n",
        "coord2_pgh = list_relCoords[2]\n",
        "coord3_parc = list_relCoords[3]\n",
        "list_recvCoords = MultiPoint(list_recvCoords)\n",
        "\n",
        "print(len(list_relCoords))\n",
        "print(list_relCoords)\n",
        "print(coord0_frys)\n",
        "print(coord1_lensc)\n",
        "print(coord2_pgh)\n",
        "print(coord3_parc)\n",
        "print(len(list_recvCoords))\n",
        "# print(len(df_detections['recvDeployName'].unique()))"
      ],
      "execution_count": 28,
      "outputs": [
        {
          "output_type": "stream",
          "text": [
            "4\n",
            "MULTIPOINT (-80.0861 42.1602, -81.937744 41.48611289999999, -79.9458113 40.4385688, -79.26740644 40.16353282)\n",
            "POINT (-80.0861 42.1602)\n",
            "POINT (-81.937744 41.48611289999999)\n",
            "POINT (-79.9458113 40.4385688)\n",
            "POINT (-79.26740644 40.16353282)\n",
            "37\n"
          ],
          "name": "stdout"
        }
      ]
    },
    {
      "cell_type": "code",
      "metadata": {
        "collapsed": true,
        "id": "Gs41fMU2Im-w",
        "colab_type": "code",
        "outputId": "fb08dcdd-b129-47d6-f046-533272906341",
        "colab": {
          "base_uri": "https://localhost:8080/",
          "height": 85
        }
      },
      "source": [
        "# 15.3 Find out which tower is nearest to the release sites\n",
        "\n",
        "# d. use nearest points. relcoords as origin and recvs as destinations\n",
        "near_frys = nearest_points(coord0_frys, list_recvCoords)\n",
        "near_lensc = nearest_points(coord1_lensc, list_recvCoords)\n",
        "near_pgh = nearest_points(coord2_pgh, list_recvCoords)\n",
        "near_parc = nearest_points(coord3_parc, list_recvCoords)\n",
        "\n",
        "# e. print out the nearest sites\n",
        "# matched by reviewing the original df in excel\n",
        "print(near_frys[1]) # PresqueIsle\n",
        "print(near_lensc[1]) # PARC Honey Hut\n",
        "print(near_pgh[1]) # PARC CMNH\n",
        "print(near_parc[1]) # PARC Banding\n"
      ],
      "execution_count": 29,
      "outputs": [
        {
          "output_type": "stream",
          "text": [
            "POINT (-80.15000000000001 42.1)\n",
            "POINT (-81.95 41.5)\n",
            "POINT (-79.95 40.45)\n",
            "POINT (-79.25 40.15)\n"
          ],
          "name": "stdout"
        }
      ]
    },
    {
      "cell_type": "code",
      "metadata": {
        "id": "Z76A0GGTIm-y",
        "colab_type": "code",
        "colab": {}
      },
      "source": [
        "# 15.4 Map nearest towers in a separate column\n",
        "\n",
        "# f. add new column for nearest sites\n",
        "#df_detections['nearestRecv']\n",
        "#df_detections.loc[df_detections['release.site'] == 'FRYS', ['nearest.recv']] = 'PresqueIsle'\n",
        "\n",
        "equiv = {'FRYS':'PresqueIsle', 'LENSC':'PARC Honey Hut', 'PGH':'PARC CMNH', 'PARC':'PARC Banding'}\n",
        "\n",
        "df_detections['nearestRecv'] = df_detections['release.site'].map(equiv)"
      ],
      "execution_count": 0,
      "outputs": []
    },
    {
      "cell_type": "code",
      "metadata": {
        "id": "ms2hPdDiIm-1",
        "colab_type": "code",
        "colab": {}
      },
      "source": [
        "# 15.5 How many days do wild and rehab birds stay at their release site before departing\n",
        "\n",
        "# extract out the very first detections for each tag, then see which ones match first detections to the nearest tower\n",
        "\n",
        "# a. group the df by detections time in new df\n",
        "# df_bytime = df_detections.groupby(pd.Grouper(key = 'ts.h', freq = 'M'))\n",
        "df_bytime = df_detections.sort_values(by=['ts.h'])"
      ],
      "execution_count": 0,
      "outputs": []
    },
    {
      "cell_type": "code",
      "metadata": {
        "id": "uGQ1iP_8Im-3",
        "colab_type": "code",
        "colab": {}
      },
      "source": [
        "# 15.5 Which birds were first detected by the towers cloest to their release sites?\n",
        "\n",
        "# a. sort by time then extract out by the first tag IDs\n",
        "# copied this from exmaining days since release, step 16\n",
        "df_firsthits = df_detections.sort_values(by=['ts.h'])\n",
        "df_firsthits.drop_duplicates(subset ='motusTagID', keep = 'first', inplace = True)\n",
        "\n",
        "# b. match where nearestRecv == recv name\n",
        "df_matchnear = df_firsthits.loc[df_firsthits['nearestRecv'] == df_firsthits['recvDeployName']].reset_index()"
      ],
      "execution_count": 0,
      "outputs": []
    },
    {
      "cell_type": "code",
      "metadata": {
        "id": "pSvGGmlVIm-8",
        "colab_type": "code",
        "outputId": "57ea4536-c8ba-4c1e-b543-4651e6999260",
        "colab": {
          "base_uri": "https://localhost:8080/",
          "height": 122
        }
      },
      "source": [
        "# c. print shape and unique tags of new matching df \n",
        "print(df_matchnear.shape) #shows 20 different obs\n",
        "print(len(df_matchnear['motusTagID'].unique())) \n",
        "\n",
        "# d. which birds were detected by the nearest receiver? \n",
        "list_matchnear = df_matchnear['motusTagID'].tolist() # make a list of tags\n",
        "print(list_matchnear)\n",
        "\n",
        "# e. how many wild vs rehab?\n",
        "print('Rehab Matching Near: ' + str(len(df_matchnear.loc[df_matchnear['rehab'] == 'Y'])))\n",
        "print('Wild Matching Near: ' + str(len(df_matchnear.loc[df_matchnear['rehab'] == 'N'])))\n"
      ],
      "execution_count": 33,
      "outputs": [
        {
          "output_type": "stream",
          "text": [
            "(20, 27)\n",
            "20\n",
            "[28446, 28425, 28429, 28449, 28441, 28457, 28448, 28455, 28436, 28452, 28453, 28422, 28445, 24376, 28763, 28434, 28440, 28420, 28415, 28428]\n",
            "Rehab Matching Near: 15\n",
            "Wild Matching Near: 5\n"
          ],
          "name": "stdout"
        }
      ]
    },
    {
      "cell_type": "code",
      "metadata": {
        "id": "NOPrfVeDIm--",
        "colab_type": "code",
        "colab": {}
      },
      "source": [
        "# 16. How many days do wild and rehab birds stay at their release site before departing\n",
        "\n",
        "# extract out the very first detections for each tag, then see which ones match first detections to the nearest tower\n",
        "\n",
        "# a. group the df by detections time in new df\n",
        "# df_bytime = df_detections.groupby(pd.Grouper(key = 'ts.h', freq = 'M'))\n",
        "df_bytime = df_detections.sort_values(by=['ts.h'])"
      ],
      "execution_count": 0,
      "outputs": []
    },
    {
      "cell_type": "code",
      "metadata": {
        "id": "KkZtkG9rIm_B",
        "colab_type": "code",
        "colab": {}
      },
      "source": [
        "# 16.1 How many days do wild and rehab birds stay at their release site before departing\n",
        "\n",
        "# b. drop duplicates for first observations of unique tagID\n",
        "df_bytime.drop_duplicates(subset ='motusTagID', keep = 'first', inplace = True) \n",
        "\n",
        "# c. combine the release time with dates as new col\n",
        "df_bytime['relDateTime'] = pd.to_datetime(df_bytime['releaseDate'] + ' ' + df_bytime['releaseTimeUTC'])\n",
        "\n",
        "# c. find the difference in days since release\n",
        "df_bytime['DaysSinceRelease'] = (df_bytime['ts.h'] - df_bytime['relDateTime']).dt.days\n",
        "\n",
        "# d. find the difference in mins since release\n",
        "df_bytime['MinsSinceRelease'] = (df_bytime['ts.h'] - df_bytime['relDateTime']).astype('<m8[m]').astype(int)\n"
      ],
      "execution_count": 0,
      "outputs": []
    },
    {
      "cell_type": "code",
      "metadata": {
        "id": "GxmL0zSuIm_C",
        "colab_type": "code",
        "colab": {}
      },
      "source": [
        "# 16.2 How many days do wild and rehab birds stay at their release site before departing\n",
        "\n",
        "# e. separate rehab from wild in new dfs\n",
        "df_wildbytime = df_bytime.loc[df_bytime['rehab'] == 'N'].reset_index()\n",
        "df_rehabbytime = df_bytime.loc[df_bytime['rehab'] == 'Y'].reset_index()"
      ],
      "execution_count": 0,
      "outputs": []
    },
    {
      "cell_type": "code",
      "metadata": {
        "id": "vkJtKLQHIm_E",
        "colab_type": "code",
        "outputId": "44bf7e8c-a797-4fbc-ddbf-2ec60b7913fb",
        "colab": {
          "base_uri": "https://localhost:8080/",
          "height": 489
        }
      },
      "source": [
        "# 16.2 How many days do wild and rehab birds stay at their release site before departing\n",
        "\n",
        "# f. calculate average number of days and mins since release for wild birds\n",
        "print('Wild - Mean Days Since Release: ' + str(df_wildbytime['DaysSinceRelease'].mean()))\n",
        "\n",
        "print('Wild - Mean Mins Since Release: ' + str(df_wildbytime['MinsSinceRelease'].mean()))\n",
        "\n",
        "# g. calculate average number of days and mins since release for rehab birds\n",
        "print('Rehab - Mean Days Since Release: ' + str(df_rehabbytime['DaysSinceRelease'].mean()))\n",
        "\n",
        "print('Rehab - Mean Mins Since Release: ' + str(df_rehabbytime['MinsSinceRelease'].mean()))\n",
        "\n",
        "df_timeSpe = df_bytime.groupby(['speciesEN.x', 'rehab'])['DaysSinceRelease'].mean().reset_index()\n",
        "\n",
        "df_timeSpe\n"
      ],
      "execution_count": 44,
      "outputs": [
        {
          "output_type": "stream",
          "text": [
            "Wild - Mean Days Since Release: 6.266666666666667\n",
            "Wild - Mean Mins Since Release: 9914.466666666667\n",
            "Rehab - Mean Days Since Release: 7.0476190476190474\n",
            "Rehab - Mean Mins Since Release: 10675.619047619048\n"
          ],
          "name": "stdout"
        },
        {
          "output_type": "execute_result",
          "data": {
            "text/html": [
              "<div>\n",
              "<style scoped>\n",
              "    .dataframe tbody tr th:only-of-type {\n",
              "        vertical-align: middle;\n",
              "    }\n",
              "\n",
              "    .dataframe tbody tr th {\n",
              "        vertical-align: top;\n",
              "    }\n",
              "\n",
              "    .dataframe thead th {\n",
              "        text-align: right;\n",
              "    }\n",
              "</style>\n",
              "<table border=\"1\" class=\"dataframe\">\n",
              "  <thead>\n",
              "    <tr style=\"text-align: right;\">\n",
              "      <th></th>\n",
              "      <th>speciesEN.x</th>\n",
              "      <th>rehab</th>\n",
              "      <th>DaysSinceRelease</th>\n",
              "    </tr>\n",
              "  </thead>\n",
              "  <tbody>\n",
              "    <tr>\n",
              "      <th>0</th>\n",
              "      <td>American Woodcock</td>\n",
              "      <td>N</td>\n",
              "      <td>22.000000</td>\n",
              "    </tr>\n",
              "    <tr>\n",
              "      <th>1</th>\n",
              "      <td>American Woodcock</td>\n",
              "      <td>Y</td>\n",
              "      <td>0.500000</td>\n",
              "    </tr>\n",
              "    <tr>\n",
              "      <th>2</th>\n",
              "      <td>Gray Catbird</td>\n",
              "      <td>N</td>\n",
              "      <td>4.666667</td>\n",
              "    </tr>\n",
              "    <tr>\n",
              "      <th>3</th>\n",
              "      <td>Gray Catbird</td>\n",
              "      <td>Y</td>\n",
              "      <td>0.000000</td>\n",
              "    </tr>\n",
              "    <tr>\n",
              "      <th>4</th>\n",
              "      <td>Magnolia Warbler</td>\n",
              "      <td>N</td>\n",
              "      <td>4.000000</td>\n",
              "    </tr>\n",
              "    <tr>\n",
              "      <th>5</th>\n",
              "      <td>Magnolia Warbler</td>\n",
              "      <td>Y</td>\n",
              "      <td>18.333333</td>\n",
              "    </tr>\n",
              "    <tr>\n",
              "      <th>6</th>\n",
              "      <td>Ovenbird</td>\n",
              "      <td>N</td>\n",
              "      <td>2.500000</td>\n",
              "    </tr>\n",
              "    <tr>\n",
              "      <th>7</th>\n",
              "      <td>Ovenbird</td>\n",
              "      <td>Y</td>\n",
              "      <td>20.250000</td>\n",
              "    </tr>\n",
              "    <tr>\n",
              "      <th>8</th>\n",
              "      <td>White-throated Sparrow</td>\n",
              "      <td>N</td>\n",
              "      <td>8.250000</td>\n",
              "    </tr>\n",
              "    <tr>\n",
              "      <th>9</th>\n",
              "      <td>White-throated Sparrow</td>\n",
              "      <td>Y</td>\n",
              "      <td>6.000000</td>\n",
              "    </tr>\n",
              "    <tr>\n",
              "      <th>10</th>\n",
              "      <td>Wood Thrush</td>\n",
              "      <td>N</td>\n",
              "      <td>4.000000</td>\n",
              "    </tr>\n",
              "    <tr>\n",
              "      <th>11</th>\n",
              "      <td>Wood Thrush</td>\n",
              "      <td>Y</td>\n",
              "      <td>1.333333</td>\n",
              "    </tr>\n",
              "  </tbody>\n",
              "</table>\n",
              "</div>"
            ],
            "text/plain": [
              "               speciesEN.x rehab  DaysSinceRelease\n",
              "0        American Woodcock     N         22.000000\n",
              "1        American Woodcock     Y          0.500000\n",
              "2             Gray Catbird     N          4.666667\n",
              "3             Gray Catbird     Y          0.000000\n",
              "4         Magnolia Warbler     N          4.000000\n",
              "5         Magnolia Warbler     Y         18.333333\n",
              "6                 Ovenbird     N          2.500000\n",
              "7                 Ovenbird     Y         20.250000\n",
              "8   White-throated Sparrow     N          8.250000\n",
              "9   White-throated Sparrow     Y          6.000000\n",
              "10             Wood Thrush     N          4.000000\n",
              "11             Wood Thrush     Y          1.333333"
            ]
          },
          "metadata": {
            "tags": []
          },
          "execution_count": 44
        }
      ]
    },
    {
      "cell_type": "markdown",
      "metadata": {
        "id": "Mlczf7RpPdSq",
        "colab_type": "text"
      },
      "source": [
        "## Speed and Distance"
      ]
    },
    {
      "cell_type": "code",
      "metadata": {
        "id": "HxtJrU3ZIm_H",
        "colab_type": "code",
        "colab": {}
      },
      "source": [
        "# 17. Is there a difference in migratory speed after departure \n",
        "# between wild and rehab birds (i.e. distance/time)?\n",
        "\n",
        "# a. get the tags that were detected by more than one recv as new df\n",
        "df_over1 = df_detections.loc[df_detections['motusTagID'].isin(list_over1)]\n",
        "\n",
        "# b. sort it by ID and time\n",
        "df_over1 = df_over1.sort_values(by=['motusTagID', 'ts.h'])\n",
        "\n",
        "# c. clean cols\n",
        "df_over1 = df_over1[['motusTagID','recvDeployName', 'ts.h', 'recvLat', 'recvLon', 'rehab', 'speciesEN.x']]\n",
        "\n",
        "# d. calculate the difference between each timestamp\n",
        "df_over1['timeDiff'] = df_over1['ts.h'].diff()"
      ],
      "execution_count": 0,
      "outputs": []
    },
    {
      "cell_type": "code",
      "metadata": {
        "id": "eQGwJVX0Qo63",
        "colab_type": "code",
        "colab": {}
      },
      "source": [
        "# 17.1 Is there a difference in migratory speed after departure \n",
        "# between wild and rehab birds (i.e. distance/time)?\n",
        "\n",
        "# d. Haversine distance function\n",
        "# vectorized haversine function\n",
        "def haversine(lat1, lon1, lat2, lon2, to_radians=True, earth_radius=6371):\n",
        "    \"\"\"\n",
        "    slightly modified version: of http://stackoverflow.com/a/29546836/2901002\n",
        "\n",
        "    Calculate the great circle distance between two points\n",
        "    on the earth (specified in decimal degrees or in radians)\n",
        "\n",
        "    All (lat, lon) coordinates must have numeric dtypes and be of equal length.\n",
        "\n",
        "    \"\"\"\n",
        "    if to_radians:\n",
        "        lat1, lon1, lat2, lon2 = np.radians([lat1, lon1, lat2, lon2])\n",
        "\n",
        "    a = np.sin((lat2-lat1)/2.0)**2 + \\\n",
        "        np.cos(lat1) * np.cos(lat2) * np.sin((lon2-lon1)/2.0)**2\n",
        "\n",
        "    return earth_radius * 2 * np.arcsin(np.sqrt(a))\n",
        "\n",
        "# e. velocity function \n",
        "def calc_velocity(dist_mi, time_start, time_end):\n",
        "    \"\"\"Return 0 if time_start == time_end, avoid dividing by 0\"\"\"\n",
        "    return dist_mi / (time_end - time_start).seconds if time_end > time_start else 0"
      ],
      "execution_count": 0,
      "outputs": []
    },
    {
      "cell_type": "code",
      "metadata": {
        "id": "vzslnHllIm_K",
        "colab_type": "code",
        "colab": {}
      },
      "source": [
        "# 17.2 Is there a difference in migratory speed after departure \n",
        "# between wild and rehab birds (i.e. distance/time)?\n",
        "\n",
        "# g. create a new column for distance and calculate using shift and concat\n",
        "df_over1['dist_mi'] = \\\n",
        "np.concatenate(df_over1.\\\n",
        "        groupby('motusTagID').apply(lambda x: haversine(x['recvLat'],\n",
        "                        x['recvLon'],x['recvLat'].shift(), x['recvLon'].shift())).values)\n",
        "\n",
        "\n",
        "# h. create a new column for velocity - mph\n",
        "df_over1['velocity_mph'] = df_over1.apply(\n",
        "    lambda row: calc_velocity(\n",
        "        dist_mi=row['dist_mi'],\n",
        "        time_start=row['ts.h'],\n",
        "        time_end=row['ts.h'] + row['timeDiff']\n",
        "    ), \n",
        "    axis = 1\n",
        ")"
      ],
      "execution_count": 0,
      "outputs": []
    },
    {
      "cell_type": "code",
      "metadata": {
        "id": "GXvis6SeIm_M",
        "colab_type": "code",
        "colab": {}
      },
      "source": [
        "# i. Mask over the first entries for each tag for the time difference\n",
        "# the time difference isn't being calculated for each unique ID\n",
        "# but rather each previous row - so this corrects the df\n",
        "\n",
        "mask = df_over1.motusTagID != df_over1.motusTagID.shift()\n",
        "df_over1.loc[mask, ['timeDiff']] = np.nan #this mask is dependent on the order of the rows\n"
      ],
      "execution_count": 0,
      "outputs": []
    },
    {
      "cell_type": "code",
      "metadata": {
        "id": "uQhwMiqoxNzJ",
        "colab_type": "code",
        "outputId": "9b7d35f2-055f-4276-89c6-08f550093d5a",
        "colab": {
          "base_uri": "https://localhost:8080/",
          "height": 111
        }
      },
      "source": [
        "# 17.3 Is there a difference in migratory speed after departure \n",
        "# between wild and rehab birds (i.e. distance/time)?\n",
        "\n",
        "# a. calculate mean distance traveled by tag\n",
        "df_meanDisTag = df_over1.groupby('motusTagID')['dist_mi'].mean().reset_index().\\\n",
        "sort_values(by = 'dist_mi',ascending = False)\n",
        "\n",
        "df_meanDisTag.head() # this df shows the mean distance traveled for each tag\n",
        "\n",
        "# b. mean distance for rehab and wild\n",
        "df_meanDisRehab = df_over1.groupby(['rehab'])['dist_mi'].mean().reset_index().\\\n",
        "sort_values(by = 'dist_mi',ascending = False)\n",
        "\n",
        "df_meanDisRehab.head() # shows rehab birds flew farther"
      ],
      "execution_count": 49,
      "outputs": [
        {
          "output_type": "execute_result",
          "data": {
            "text/html": [
              "<div>\n",
              "<style scoped>\n",
              "    .dataframe tbody tr th:only-of-type {\n",
              "        vertical-align: middle;\n",
              "    }\n",
              "\n",
              "    .dataframe tbody tr th {\n",
              "        vertical-align: top;\n",
              "    }\n",
              "\n",
              "    .dataframe thead th {\n",
              "        text-align: right;\n",
              "    }\n",
              "</style>\n",
              "<table border=\"1\" class=\"dataframe\">\n",
              "  <thead>\n",
              "    <tr style=\"text-align: right;\">\n",
              "      <th></th>\n",
              "      <th>rehab</th>\n",
              "      <th>dist_mi</th>\n",
              "    </tr>\n",
              "  </thead>\n",
              "  <tbody>\n",
              "    <tr>\n",
              "      <th>1</th>\n",
              "      <td>Y</td>\n",
              "      <td>6.886218</td>\n",
              "    </tr>\n",
              "    <tr>\n",
              "      <th>0</th>\n",
              "      <td>N</td>\n",
              "      <td>0.766533</td>\n",
              "    </tr>\n",
              "  </tbody>\n",
              "</table>\n",
              "</div>"
            ],
            "text/plain": [
              "  rehab   dist_mi\n",
              "1     Y  6.886218\n",
              "0     N  0.766533"
            ]
          },
          "metadata": {
            "tags": []
          },
          "execution_count": 49
        }
      ]
    },
    {
      "cell_type": "code",
      "metadata": {
        "id": "iw_TwTHFIm_O",
        "colab_type": "code",
        "outputId": "a54857e9-cb86-448b-8cae-cd1ccb89cdcc",
        "colab": {
          "base_uri": "https://localhost:8080/",
          "height": 111
        }
      },
      "source": [
        "# 17.3 Is there a difference in migratory speed after departure \n",
        "# between wild and rehab birds (i.e. distance/time)?\n",
        "\n",
        "# c. mean velocity by tag\n",
        "df_meanSpdByTag = df_over1.groupby('motusTagID')['velocity_mph'].mean().reset_index().\\\n",
        "sort_values(by = 'velocity_mph',ascending = False)\n",
        "\n",
        "# d. mean velocity for rehab and wild\n",
        "df_meanSpd = df_over1.groupby(['rehab'])['velocity_mph'].mean().reset_index().\\\n",
        "sort_values(by = 'velocity_mph',ascending = False)\n",
        "\n",
        "df_meanSpd.head() #the rehab birds flew faster"
      ],
      "execution_count": 50,
      "outputs": [
        {
          "output_type": "execute_result",
          "data": {
            "text/html": [
              "<div>\n",
              "<style scoped>\n",
              "    .dataframe tbody tr th:only-of-type {\n",
              "        vertical-align: middle;\n",
              "    }\n",
              "\n",
              "    .dataframe tbody tr th {\n",
              "        vertical-align: top;\n",
              "    }\n",
              "\n",
              "    .dataframe thead th {\n",
              "        text-align: right;\n",
              "    }\n",
              "</style>\n",
              "<table border=\"1\" class=\"dataframe\">\n",
              "  <thead>\n",
              "    <tr style=\"text-align: right;\">\n",
              "      <th></th>\n",
              "      <th>rehab</th>\n",
              "      <th>velocity_mph</th>\n",
              "    </tr>\n",
              "  </thead>\n",
              "  <tbody>\n",
              "    <tr>\n",
              "      <th>1</th>\n",
              "      <td>Y</td>\n",
              "      <td>0.003325</td>\n",
              "    </tr>\n",
              "    <tr>\n",
              "      <th>0</th>\n",
              "      <td>N</td>\n",
              "      <td>0.000167</td>\n",
              "    </tr>\n",
              "  </tbody>\n",
              "</table>\n",
              "</div>"
            ],
            "text/plain": [
              "  rehab  velocity_mph\n",
              "1     Y      0.003325\n",
              "0     N      0.000167"
            ]
          },
          "metadata": {
            "tags": []
          },
          "execution_count": 50
        }
      ]
    },
    {
      "cell_type": "code",
      "metadata": {
        "id": "Dr93a1qY_Fud",
        "colab_type": "code",
        "outputId": "12ad7124-b457-490f-e9ac-78ebc386dd56",
        "colab": {
          "base_uri": "https://localhost:8080/",
          "height": 111
        }
      },
      "source": [
        "# 17.3.1 We should normalize the data so that we just have duplicates for a different hit at a different date\n",
        "\n",
        "# a. sort by the dates, then drop duplicates by recv - keeping the last\n",
        "# this normalizes a little to reduce the repeat detections at the same receiver location, keeping only the final one. \n",
        "df_over1.columns\n",
        "df_over1.head()\n",
        "\n",
        "df_nrml = df_over1.sort_values('ts.h').drop_duplicates('recvDeployName',keep='last')\n",
        "df_nrml.head()\n",
        "\n",
        "# b. recalculate the mean speed by tag\n",
        "df_meanSpdByTagN = df_nrml.groupby('motusTagID')['velocity_mph'].mean().reset_index().\\\n",
        "sort_values(by = 'velocity_mph',ascending = False)\n",
        "\n",
        "# c. recalculate mean velocity for rehab and wild\n",
        "df_meanSpdN = df_nrml.groupby(['rehab'])['velocity_mph'].mean().reset_index().\\\n",
        "sort_values(by = 'velocity_mph',ascending = False)\n",
        "\n",
        "df_meanSpdN.head() "
      ],
      "execution_count": 51,
      "outputs": [
        {
          "output_type": "execute_result",
          "data": {
            "text/html": [
              "<div>\n",
              "<style scoped>\n",
              "    .dataframe tbody tr th:only-of-type {\n",
              "        vertical-align: middle;\n",
              "    }\n",
              "\n",
              "    .dataframe tbody tr th {\n",
              "        vertical-align: top;\n",
              "    }\n",
              "\n",
              "    .dataframe thead th {\n",
              "        text-align: right;\n",
              "    }\n",
              "</style>\n",
              "<table border=\"1\" class=\"dataframe\">\n",
              "  <thead>\n",
              "    <tr style=\"text-align: right;\">\n",
              "      <th></th>\n",
              "      <th>rehab</th>\n",
              "      <th>velocity_mph</th>\n",
              "    </tr>\n",
              "  </thead>\n",
              "  <tbody>\n",
              "    <tr>\n",
              "      <th>1</th>\n",
              "      <td>Y</td>\n",
              "      <td>0.049876</td>\n",
              "    </tr>\n",
              "    <tr>\n",
              "      <th>0</th>\n",
              "      <td>N</td>\n",
              "      <td>0.011233</td>\n",
              "    </tr>\n",
              "  </tbody>\n",
              "</table>\n",
              "</div>"
            ],
            "text/plain": [
              "  rehab  velocity_mph\n",
              "1     Y      0.049876\n",
              "0     N      0.011233"
            ]
          },
          "metadata": {
            "tags": []
          },
          "execution_count": 51
        }
      ]
    },
    {
      "cell_type": "code",
      "metadata": {
        "id": "wwe7QKRexgU_",
        "colab_type": "code",
        "outputId": "48eb41c4-f622-45e4-e940-499aee53d74c",
        "colab": {
          "base_uri": "https://localhost:8080/",
          "height": 204
        }
      },
      "source": [
        "# 17.3.1 Normalization of the mean distance traveled\n",
        "\n",
        "# a. recalculate calculate mean distance traveled by tag\n",
        "df_meanDisTagN = df_nrml.groupby('motusTagID')['dist_mi'].mean().reset_index().\\\n",
        "sort_values(by = 'dist_mi',ascending = False)\n",
        "\n",
        "df_meanDisTagN.head() # this df shows the mean distance traveled for each tag"
      ],
      "execution_count": 52,
      "outputs": [
        {
          "output_type": "execute_result",
          "data": {
            "text/html": [
              "<div>\n",
              "<style scoped>\n",
              "    .dataframe tbody tr th:only-of-type {\n",
              "        vertical-align: middle;\n",
              "    }\n",
              "\n",
              "    .dataframe tbody tr th {\n",
              "        vertical-align: top;\n",
              "    }\n",
              "\n",
              "    .dataframe thead th {\n",
              "        text-align: right;\n",
              "    }\n",
              "</style>\n",
              "<table border=\"1\" class=\"dataframe\">\n",
              "  <thead>\n",
              "    <tr style=\"text-align: right;\">\n",
              "      <th></th>\n",
              "      <th>motusTagID</th>\n",
              "      <th>dist_mi</th>\n",
              "    </tr>\n",
              "  </thead>\n",
              "  <tbody>\n",
              "    <tr>\n",
              "      <th>3</th>\n",
              "      <td>28414</td>\n",
              "      <td>246.289729</td>\n",
              "    </tr>\n",
              "    <tr>\n",
              "      <th>10</th>\n",
              "      <td>28452</td>\n",
              "      <td>158.008072</td>\n",
              "    </tr>\n",
              "    <tr>\n",
              "      <th>5</th>\n",
              "      <td>28425</td>\n",
              "      <td>105.991412</td>\n",
              "    </tr>\n",
              "    <tr>\n",
              "      <th>4</th>\n",
              "      <td>28423</td>\n",
              "      <td>83.495499</td>\n",
              "    </tr>\n",
              "    <tr>\n",
              "      <th>14</th>\n",
              "      <td>28460</td>\n",
              "      <td>63.294861</td>\n",
              "    </tr>\n",
              "  </tbody>\n",
              "</table>\n",
              "</div>"
            ],
            "text/plain": [
              "    motusTagID     dist_mi\n",
              "3        28414  246.289729\n",
              "10       28452  158.008072\n",
              "5        28425  105.991412\n",
              "4        28423   83.495499\n",
              "14       28460   63.294861"
            ]
          },
          "metadata": {
            "tags": []
          },
          "execution_count": 52
        }
      ]
    },
    {
      "cell_type": "code",
      "metadata": {
        "id": "rd3kV0AcxyMC",
        "colab_type": "code",
        "outputId": "64823f63-6a43-4928-b50a-07cfe36a2c10",
        "colab": {
          "base_uri": "https://localhost:8080/",
          "height": 111
        }
      },
      "source": [
        "# b. recalculate mean distance for rehab and wild\n",
        "df_meanDisRehabN = df_nrml.groupby(['rehab'])['dist_mi'].mean().reset_index().\\\n",
        "sort_values(by = 'dist_mi',ascending = False)\n",
        "\n",
        "df_meanDisRehabN.head() # shows rehab birds flew farther"
      ],
      "execution_count": 53,
      "outputs": [
        {
          "output_type": "execute_result",
          "data": {
            "text/html": [
              "<div>\n",
              "<style scoped>\n",
              "    .dataframe tbody tr th:only-of-type {\n",
              "        vertical-align: middle;\n",
              "    }\n",
              "\n",
              "    .dataframe tbody tr th {\n",
              "        vertical-align: top;\n",
              "    }\n",
              "\n",
              "    .dataframe thead th {\n",
              "        text-align: right;\n",
              "    }\n",
              "</style>\n",
              "<table border=\"1\" class=\"dataframe\">\n",
              "  <thead>\n",
              "    <tr style=\"text-align: right;\">\n",
              "      <th></th>\n",
              "      <th>rehab</th>\n",
              "      <th>dist_mi</th>\n",
              "    </tr>\n",
              "  </thead>\n",
              "  <tbody>\n",
              "    <tr>\n",
              "      <th>0</th>\n",
              "      <td>N</td>\n",
              "      <td>69.997293</td>\n",
              "    </tr>\n",
              "    <tr>\n",
              "      <th>1</th>\n",
              "      <td>Y</td>\n",
              "      <td>41.913541</td>\n",
              "    </tr>\n",
              "  </tbody>\n",
              "</table>\n",
              "</div>"
            ],
            "text/plain": [
              "  rehab    dist_mi\n",
              "0     N  69.997293\n",
              "1     Y  41.913541"
            ]
          },
          "metadata": {
            "tags": []
          },
          "execution_count": 53
        }
      ]
    },
    {
      "cell_type": "code",
      "metadata": {
        "colab_type": "code",
        "outputId": "7333564b-b4fb-4066-d76d-41d81b5d2ee0",
        "id": "oqLwiuMr30g_",
        "colab": {
          "base_uri": "https://localhost:8080/",
          "height": 529
        }
      },
      "source": [
        "df_over1.loc[df_over1['speciesEN.x'] == \"White-throated Sparrow\"]"
      ],
      "execution_count": 54,
      "outputs": [
        {
          "output_type": "execute_result",
          "data": {
            "text/html": [
              "<div>\n",
              "<style scoped>\n",
              "    .dataframe tbody tr th:only-of-type {\n",
              "        vertical-align: middle;\n",
              "    }\n",
              "\n",
              "    .dataframe tbody tr th {\n",
              "        vertical-align: top;\n",
              "    }\n",
              "\n",
              "    .dataframe thead th {\n",
              "        text-align: right;\n",
              "    }\n",
              "</style>\n",
              "<table border=\"1\" class=\"dataframe\">\n",
              "  <thead>\n",
              "    <tr style=\"text-align: right;\">\n",
              "      <th></th>\n",
              "      <th>motusTagID</th>\n",
              "      <th>recvDeployName</th>\n",
              "      <th>ts.h</th>\n",
              "      <th>recvLat</th>\n",
              "      <th>recvLon</th>\n",
              "      <th>rehab</th>\n",
              "      <th>speciesEN.x</th>\n",
              "      <th>timeDiff</th>\n",
              "      <th>dist_mi</th>\n",
              "      <th>velocity_mph</th>\n",
              "    </tr>\n",
              "  </thead>\n",
              "  <tbody>\n",
              "    <tr>\n",
              "      <th>0</th>\n",
              "      <td>28414</td>\n",
              "      <td>Long_Point_Tip</td>\n",
              "      <td>2018-05-02 01:53:09</td>\n",
              "      <td>42.55</td>\n",
              "      <td>-80.05</td>\n",
              "      <td>N</td>\n",
              "      <td>White-throated Sparrow</td>\n",
              "      <td>NaT</td>\n",
              "      <td>NaN</td>\n",
              "      <td>0.000000</td>\n",
              "    </tr>\n",
              "    <tr>\n",
              "      <th>5</th>\n",
              "      <td>28414</td>\n",
              "      <td>Brighton</td>\n",
              "      <td>2018-05-02 04:40:51</td>\n",
              "      <td>44.00</td>\n",
              "      <td>-77.75</td>\n",
              "      <td>N</td>\n",
              "      <td>White-throated Sparrow</td>\n",
              "      <td>02:47:42</td>\n",
              "      <td>246.289729</td>\n",
              "      <td>0.024477</td>\n",
              "    </tr>\n",
              "    <tr>\n",
              "      <th>33</th>\n",
              "      <td>28423</td>\n",
              "      <td>Long_Point_Tip</td>\n",
              "      <td>2018-05-09 02:52:14</td>\n",
              "      <td>42.55</td>\n",
              "      <td>-80.05</td>\n",
              "      <td>Y</td>\n",
              "      <td>White-throated Sparrow</td>\n",
              "      <td>NaT</td>\n",
              "      <td>NaN</td>\n",
              "      <td>NaN</td>\n",
              "    </tr>\n",
              "    <tr>\n",
              "      <th>34</th>\n",
              "      <td>28423</td>\n",
              "      <td>Long_Point_Tip</td>\n",
              "      <td>2018-05-09 02:52:18</td>\n",
              "      <td>42.55</td>\n",
              "      <td>-80.05</td>\n",
              "      <td>Y</td>\n",
              "      <td>White-throated Sparrow</td>\n",
              "      <td>00:00:04</td>\n",
              "      <td>0.000000</td>\n",
              "      <td>0.000000</td>\n",
              "    </tr>\n",
              "    <tr>\n",
              "      <th>35</th>\n",
              "      <td>28423</td>\n",
              "      <td>Long_Point_Tip</td>\n",
              "      <td>2018-05-09 02:52:19</td>\n",
              "      <td>42.55</td>\n",
              "      <td>-80.05</td>\n",
              "      <td>Y</td>\n",
              "      <td>White-throated Sparrow</td>\n",
              "      <td>00:00:01</td>\n",
              "      <td>0.000000</td>\n",
              "      <td>0.000000</td>\n",
              "    </tr>\n",
              "    <tr>\n",
              "      <th>36</th>\n",
              "      <td>28423</td>\n",
              "      <td>Long_Point_Tip</td>\n",
              "      <td>2018-05-09 02:57:04</td>\n",
              "      <td>42.55</td>\n",
              "      <td>-80.05</td>\n",
              "      <td>Y</td>\n",
              "      <td>White-throated Sparrow</td>\n",
              "      <td>00:04:45</td>\n",
              "      <td>0.000000</td>\n",
              "      <td>0.000000</td>\n",
              "    </tr>\n",
              "    <tr>\n",
              "      <th>51</th>\n",
              "      <td>28423</td>\n",
              "      <td>Flamborough_Quarry</td>\n",
              "      <td>2018-05-09 05:00:00</td>\n",
              "      <td>43.30</td>\n",
              "      <td>-80.00</td>\n",
              "      <td>Y</td>\n",
              "      <td>White-throated Sparrow</td>\n",
              "      <td>02:02:56</td>\n",
              "      <td>83.495499</td>\n",
              "      <td>0.011320</td>\n",
              "    </tr>\n",
              "    <tr>\n",
              "      <th>61</th>\n",
              "      <td>28423</td>\n",
              "      <td>Earl_Rowe_PP</td>\n",
              "      <td>2018-05-09 06:37:17</td>\n",
              "      <td>44.15</td>\n",
              "      <td>-79.90</td>\n",
              "      <td>Y</td>\n",
              "      <td>White-throated Sparrow</td>\n",
              "      <td>01:37:17</td>\n",
              "      <td>94.856644</td>\n",
              "      <td>0.016251</td>\n",
              "    </tr>\n",
              "    <tr>\n",
              "      <th>41</th>\n",
              "      <td>28426</td>\n",
              "      <td>Long_Point_Tip</td>\n",
              "      <td>2018-05-09 03:21:18</td>\n",
              "      <td>42.55</td>\n",
              "      <td>-80.05</td>\n",
              "      <td>N</td>\n",
              "      <td>White-throated Sparrow</td>\n",
              "      <td>NaT</td>\n",
              "      <td>NaN</td>\n",
              "      <td>0.000000</td>\n",
              "    </tr>\n",
              "    <tr>\n",
              "      <th>48</th>\n",
              "      <td>28426</td>\n",
              "      <td>Binbrook</td>\n",
              "      <td>2018-05-09 04:40:23</td>\n",
              "      <td>43.10</td>\n",
              "      <td>-79.85</td>\n",
              "      <td>N</td>\n",
              "      <td>White-throated Sparrow</td>\n",
              "      <td>01:19:05</td>\n",
              "      <td>63.294861</td>\n",
              "      <td>0.013339</td>\n",
              "    </tr>\n",
              "  </tbody>\n",
              "</table>\n",
              "</div>"
            ],
            "text/plain": [
              "    motusTagID      recvDeployName  ...     dist_mi  velocity_mph\n",
              "0        28414      Long_Point_Tip  ...         NaN      0.000000\n",
              "5        28414            Brighton  ...  246.289729      0.024477\n",
              "33       28423      Long_Point_Tip  ...         NaN           NaN\n",
              "34       28423      Long_Point_Tip  ...    0.000000      0.000000\n",
              "35       28423      Long_Point_Tip  ...    0.000000      0.000000\n",
              "36       28423      Long_Point_Tip  ...    0.000000      0.000000\n",
              "51       28423  Flamborough_Quarry  ...   83.495499      0.011320\n",
              "61       28423        Earl_Rowe_PP  ...   94.856644      0.016251\n",
              "41       28426      Long_Point_Tip  ...         NaN      0.000000\n",
              "48       28426            Binbrook  ...   63.294861      0.013339\n",
              "\n",
              "[10 rows x 10 columns]"
            ]
          },
          "metadata": {
            "tags": []
          },
          "execution_count": 54
        }
      ]
    },
    {
      "cell_type": "code",
      "metadata": {
        "id": "zsVZPHDo2Soq",
        "colab_type": "code",
        "outputId": "e114fc17-b31d-4068-b7ee-82796d8f8e45",
        "colab": {
          "base_uri": "https://localhost:8080/",
          "height": 359
        }
      },
      "source": [
        "# c. Review by species\n",
        "df_meanDisSpe = df_over1.groupby(['speciesEN.x','rehab'])['dist_mi'].aggregate([min, np.median, np.mean, max]).reset_index()\n",
        "#sort_values(by = 'dist_mi',ascending = False)\n",
        "df_meanDisSpe #the wild MagWarb was only detected once after take off - no mean available\n"
      ],
      "execution_count": 55,
      "outputs": [
        {
          "output_type": "execute_result",
          "data": {
            "text/html": [
              "<div>\n",
              "<style scoped>\n",
              "    .dataframe tbody tr th:only-of-type {\n",
              "        vertical-align: middle;\n",
              "    }\n",
              "\n",
              "    .dataframe tbody tr th {\n",
              "        vertical-align: top;\n",
              "    }\n",
              "\n",
              "    .dataframe thead th {\n",
              "        text-align: right;\n",
              "    }\n",
              "</style>\n",
              "<table border=\"1\" class=\"dataframe\">\n",
              "  <thead>\n",
              "    <tr style=\"text-align: right;\">\n",
              "      <th></th>\n",
              "      <th>speciesEN.x</th>\n",
              "      <th>rehab</th>\n",
              "      <th>min</th>\n",
              "      <th>median</th>\n",
              "      <th>mean</th>\n",
              "      <th>max</th>\n",
              "    </tr>\n",
              "  </thead>\n",
              "  <tbody>\n",
              "    <tr>\n",
              "      <th>0</th>\n",
              "      <td>American Woodcock</td>\n",
              "      <td>N</td>\n",
              "      <td>0.000000</td>\n",
              "      <td>0.000000</td>\n",
              "      <td>0.041962</td>\n",
              "      <td>54.634797</td>\n",
              "    </tr>\n",
              "    <tr>\n",
              "      <th>1</th>\n",
              "      <td>American Woodcock</td>\n",
              "      <td>Y</td>\n",
              "      <td>0.000000</td>\n",
              "      <td>15.513994</td>\n",
              "      <td>34.210675</td>\n",
              "      <td>228.850422</td>\n",
              "    </tr>\n",
              "    <tr>\n",
              "      <th>2</th>\n",
              "      <td>Gray Catbird</td>\n",
              "      <td>N</td>\n",
              "      <td>0.000000</td>\n",
              "      <td>0.000000</td>\n",
              "      <td>14.882404</td>\n",
              "      <td>63.294861</td>\n",
              "    </tr>\n",
              "    <tr>\n",
              "      <th>3</th>\n",
              "      <td>Gray Catbird</td>\n",
              "      <td>Y</td>\n",
              "      <td>0.000000</td>\n",
              "      <td>0.000000</td>\n",
              "      <td>10.567614</td>\n",
              "      <td>759.338736</td>\n",
              "    </tr>\n",
              "    <tr>\n",
              "      <th>4</th>\n",
              "      <td>Magnolia Warbler</td>\n",
              "      <td>N</td>\n",
              "      <td>523.179805</td>\n",
              "      <td>523.179805</td>\n",
              "      <td>523.179805</td>\n",
              "      <td>523.179805</td>\n",
              "    </tr>\n",
              "    <tr>\n",
              "      <th>5</th>\n",
              "      <td>Magnolia Warbler</td>\n",
              "      <td>Y</td>\n",
              "      <td>0.000000</td>\n",
              "      <td>0.000000</td>\n",
              "      <td>33.288491</td>\n",
              "      <td>120.923484</td>\n",
              "    </tr>\n",
              "    <tr>\n",
              "      <th>6</th>\n",
              "      <td>Ovenbird</td>\n",
              "      <td>Y</td>\n",
              "      <td>0.000000</td>\n",
              "      <td>0.000000</td>\n",
              "      <td>45.786651</td>\n",
              "      <td>1909.649067</td>\n",
              "    </tr>\n",
              "    <tr>\n",
              "      <th>7</th>\n",
              "      <td>White-throated Sparrow</td>\n",
              "      <td>N</td>\n",
              "      <td>63.294861</td>\n",
              "      <td>154.792295</td>\n",
              "      <td>154.792295</td>\n",
              "      <td>246.289729</td>\n",
              "    </tr>\n",
              "    <tr>\n",
              "      <th>8</th>\n",
              "      <td>White-throated Sparrow</td>\n",
              "      <td>Y</td>\n",
              "      <td>0.000000</td>\n",
              "      <td>0.000000</td>\n",
              "      <td>35.670429</td>\n",
              "      <td>94.856644</td>\n",
              "    </tr>\n",
              "    <tr>\n",
              "      <th>9</th>\n",
              "      <td>Wood Thrush</td>\n",
              "      <td>Y</td>\n",
              "      <td>0.000000</td>\n",
              "      <td>0.000000</td>\n",
              "      <td>1.311382</td>\n",
              "      <td>356.583344</td>\n",
              "    </tr>\n",
              "  </tbody>\n",
              "</table>\n",
              "</div>"
            ],
            "text/plain": [
              "              speciesEN.x rehab  ...        mean          max\n",
              "0       American Woodcock     N  ...    0.041962    54.634797\n",
              "1       American Woodcock     Y  ...   34.210675   228.850422\n",
              "2            Gray Catbird     N  ...   14.882404    63.294861\n",
              "3            Gray Catbird     Y  ...   10.567614   759.338736\n",
              "4        Magnolia Warbler     N  ...  523.179805   523.179805\n",
              "5        Magnolia Warbler     Y  ...   33.288491   120.923484\n",
              "6                Ovenbird     Y  ...   45.786651  1909.649067\n",
              "7  White-throated Sparrow     N  ...  154.792295   246.289729\n",
              "8  White-throated Sparrow     Y  ...   35.670429    94.856644\n",
              "9             Wood Thrush     Y  ...    1.311382   356.583344\n",
              "\n",
              "[10 rows x 6 columns]"
            ]
          },
          "metadata": {
            "tags": []
          },
          "execution_count": 55
        }
      ]
    },
    {
      "cell_type": "code",
      "metadata": {
        "id": "4MiIS6WI5qZK",
        "colab_type": "code",
        "outputId": "084da61d-b333-48dd-a233-27349412900b",
        "colab": {
          "base_uri": "https://localhost:8080/",
          "height": 359
        }
      },
      "source": [
        "# c. Review by species\n",
        "df_meanDisSpe2 = df_nrml.groupby(['speciesEN.x','rehab'])['dist_mi'].aggregate([min, np.median, np.mean, max]).reset_index()\n",
        "#sort_values(by = 'dist_mi',ascending = False)\n",
        "df_meanDisSpe2 #the wild MagWarb was only detected once after take off - no mean available\n"
      ],
      "execution_count": 56,
      "outputs": [
        {
          "output_type": "execute_result",
          "data": {
            "text/html": [
              "<div>\n",
              "<style scoped>\n",
              "    .dataframe tbody tr th:only-of-type {\n",
              "        vertical-align: middle;\n",
              "    }\n",
              "\n",
              "    .dataframe tbody tr th {\n",
              "        vertical-align: top;\n",
              "    }\n",
              "\n",
              "    .dataframe thead th {\n",
              "        text-align: right;\n",
              "    }\n",
              "</style>\n",
              "<table border=\"1\" class=\"dataframe\">\n",
              "  <thead>\n",
              "    <tr style=\"text-align: right;\">\n",
              "      <th></th>\n",
              "      <th>speciesEN.x</th>\n",
              "      <th>rehab</th>\n",
              "      <th>min</th>\n",
              "      <th>median</th>\n",
              "      <th>mean</th>\n",
              "      <th>max</th>\n",
              "    </tr>\n",
              "  </thead>\n",
              "  <tbody>\n",
              "    <tr>\n",
              "      <th>0</th>\n",
              "      <td>American Woodcock</td>\n",
              "      <td>N</td>\n",
              "      <td>0.000000</td>\n",
              "      <td>27.317398</td>\n",
              "      <td>27.317398</td>\n",
              "      <td>54.634797</td>\n",
              "    </tr>\n",
              "    <tr>\n",
              "      <th>1</th>\n",
              "      <td>American Woodcock</td>\n",
              "      <td>Y</td>\n",
              "      <td>0.000000</td>\n",
              "      <td>11.119493</td>\n",
              "      <td>56.154276</td>\n",
              "      <td>228.850422</td>\n",
              "    </tr>\n",
              "    <tr>\n",
              "      <th>2</th>\n",
              "      <td>Gray Catbird</td>\n",
              "      <td>N</td>\n",
              "      <td>10.153591</td>\n",
              "      <td>45.610777</td>\n",
              "      <td>39.686410</td>\n",
              "      <td>63.294861</td>\n",
              "    </tr>\n",
              "    <tr>\n",
              "      <th>3</th>\n",
              "      <td>Gray Catbird</td>\n",
              "      <td>Y</td>\n",
              "      <td>0.000000</td>\n",
              "      <td>0.000000</td>\n",
              "      <td>3.981699</td>\n",
              "      <td>19.908495</td>\n",
              "    </tr>\n",
              "    <tr>\n",
              "      <th>4</th>\n",
              "      <td>Magnolia Warbler</td>\n",
              "      <td>N</td>\n",
              "      <td>NaN</td>\n",
              "      <td>NaN</td>\n",
              "      <td>NaN</td>\n",
              "      <td>NaN</td>\n",
              "    </tr>\n",
              "    <tr>\n",
              "      <th>5</th>\n",
              "      <td>Magnolia Warbler</td>\n",
              "      <td>Y</td>\n",
              "      <td>0.000000</td>\n",
              "      <td>9.150124</td>\n",
              "      <td>34.805933</td>\n",
              "      <td>120.923484</td>\n",
              "    </tr>\n",
              "    <tr>\n",
              "      <th>6</th>\n",
              "      <td>Ovenbird</td>\n",
              "      <td>Y</td>\n",
              "      <td>0.000000</td>\n",
              "      <td>50.414308</td>\n",
              "      <td>89.914580</td>\n",
              "      <td>316.016144</td>\n",
              "    </tr>\n",
              "    <tr>\n",
              "      <th>7</th>\n",
              "      <td>White-throated Sparrow</td>\n",
              "      <td>N</td>\n",
              "      <td>246.289729</td>\n",
              "      <td>246.289729</td>\n",
              "      <td>246.289729</td>\n",
              "      <td>246.289729</td>\n",
              "    </tr>\n",
              "    <tr>\n",
              "      <th>8</th>\n",
              "      <td>White-throated Sparrow</td>\n",
              "      <td>Y</td>\n",
              "      <td>83.495499</td>\n",
              "      <td>83.495499</td>\n",
              "      <td>83.495499</td>\n",
              "      <td>83.495499</td>\n",
              "    </tr>\n",
              "    <tr>\n",
              "      <th>9</th>\n",
              "      <td>Wood Thrush</td>\n",
              "      <td>Y</td>\n",
              "      <td>0.000000</td>\n",
              "      <td>0.000000</td>\n",
              "      <td>5.373095</td>\n",
              "      <td>26.865474</td>\n",
              "    </tr>\n",
              "  </tbody>\n",
              "</table>\n",
              "</div>"
            ],
            "text/plain": [
              "              speciesEN.x rehab         min      median        mean         max\n",
              "0       American Woodcock     N    0.000000   27.317398   27.317398   54.634797\n",
              "1       American Woodcock     Y    0.000000   11.119493   56.154276  228.850422\n",
              "2            Gray Catbird     N   10.153591   45.610777   39.686410   63.294861\n",
              "3            Gray Catbird     Y    0.000000    0.000000    3.981699   19.908495\n",
              "4        Magnolia Warbler     N         NaN         NaN         NaN         NaN\n",
              "5        Magnolia Warbler     Y    0.000000    9.150124   34.805933  120.923484\n",
              "6                Ovenbird     Y    0.000000   50.414308   89.914580  316.016144\n",
              "7  White-throated Sparrow     N  246.289729  246.289729  246.289729  246.289729\n",
              "8  White-throated Sparrow     Y   83.495499   83.495499   83.495499   83.495499\n",
              "9             Wood Thrush     Y    0.000000    0.000000    5.373095   26.865474"
            ]
          },
          "metadata": {
            "tags": []
          },
          "execution_count": 56
        }
      ]
    },
    {
      "cell_type": "code",
      "metadata": {
        "id": "scLHkqN-QXtq",
        "colab_type": "code",
        "colab": {
          "base_uri": "https://localhost:8080/",
          "height": 359
        },
        "outputId": "0847d73b-a8be-4ef0-9274-1d5fd26eaf2e"
      },
      "source": [
        "df_meanVeloSpe2 = df_nrml.groupby(['speciesEN.x','rehab'])['velocity_mph'].aggregate\\\n",
        "([min, np.median, np.mean, max]).reset_index()\n",
        "df_meanVeloSpe2"
      ],
      "execution_count": 57,
      "outputs": [
        {
          "output_type": "execute_result",
          "data": {
            "text/html": [
              "<div>\n",
              "<style scoped>\n",
              "    .dataframe tbody tr th:only-of-type {\n",
              "        vertical-align: middle;\n",
              "    }\n",
              "\n",
              "    .dataframe tbody tr th {\n",
              "        vertical-align: top;\n",
              "    }\n",
              "\n",
              "    .dataframe thead th {\n",
              "        text-align: right;\n",
              "    }\n",
              "</style>\n",
              "<table border=\"1\" class=\"dataframe\">\n",
              "  <thead>\n",
              "    <tr style=\"text-align: right;\">\n",
              "      <th></th>\n",
              "      <th>speciesEN.x</th>\n",
              "      <th>rehab</th>\n",
              "      <th>min</th>\n",
              "      <th>median</th>\n",
              "      <th>mean</th>\n",
              "      <th>max</th>\n",
              "    </tr>\n",
              "  </thead>\n",
              "  <tbody>\n",
              "    <tr>\n",
              "      <th>0</th>\n",
              "      <td>American Woodcock</td>\n",
              "      <td>N</td>\n",
              "      <td>0.000000</td>\n",
              "      <td>0.000826</td>\n",
              "      <td>0.000826</td>\n",
              "      <td>0.001652</td>\n",
              "    </tr>\n",
              "    <tr>\n",
              "      <th>1</th>\n",
              "      <td>American Woodcock</td>\n",
              "      <td>Y</td>\n",
              "      <td>0.000000</td>\n",
              "      <td>0.002770</td>\n",
              "      <td>0.227406</td>\n",
              "      <td>0.794249</td>\n",
              "    </tr>\n",
              "    <tr>\n",
              "      <th>2</th>\n",
              "      <td>Gray Catbird</td>\n",
              "      <td>N</td>\n",
              "      <td>0.007935</td>\n",
              "      <td>0.010133</td>\n",
              "      <td>0.013756</td>\n",
              "      <td>0.023200</td>\n",
              "    </tr>\n",
              "    <tr>\n",
              "      <th>3</th>\n",
              "      <td>Gray Catbird</td>\n",
              "      <td>Y</td>\n",
              "      <td>0.000000</td>\n",
              "      <td>0.000000</td>\n",
              "      <td>0.004630</td>\n",
              "      <td>0.023149</td>\n",
              "    </tr>\n",
              "    <tr>\n",
              "      <th>4</th>\n",
              "      <td>Magnolia Warbler</td>\n",
              "      <td>N</td>\n",
              "      <td>NaN</td>\n",
              "      <td>NaN</td>\n",
              "      <td>NaN</td>\n",
              "      <td>NaN</td>\n",
              "    </tr>\n",
              "    <tr>\n",
              "      <th>5</th>\n",
              "      <td>Magnolia Warbler</td>\n",
              "      <td>Y</td>\n",
              "      <td>0.000000</td>\n",
              "      <td>0.010155</td>\n",
              "      <td>0.020430</td>\n",
              "      <td>0.061410</td>\n",
              "    </tr>\n",
              "    <tr>\n",
              "      <th>6</th>\n",
              "      <td>Ovenbird</td>\n",
              "      <td>Y</td>\n",
              "      <td>0.000000</td>\n",
              "      <td>0.000183</td>\n",
              "      <td>0.011089</td>\n",
              "      <td>0.057604</td>\n",
              "    </tr>\n",
              "    <tr>\n",
              "      <th>7</th>\n",
              "      <td>White-throated Sparrow</td>\n",
              "      <td>N</td>\n",
              "      <td>0.024477</td>\n",
              "      <td>0.024477</td>\n",
              "      <td>0.024477</td>\n",
              "      <td>0.024477</td>\n",
              "    </tr>\n",
              "    <tr>\n",
              "      <th>8</th>\n",
              "      <td>White-throated Sparrow</td>\n",
              "      <td>Y</td>\n",
              "      <td>0.011320</td>\n",
              "      <td>0.011320</td>\n",
              "      <td>0.011320</td>\n",
              "      <td>0.011320</td>\n",
              "    </tr>\n",
              "    <tr>\n",
              "      <th>9</th>\n",
              "      <td>Wood Thrush</td>\n",
              "      <td>Y</td>\n",
              "      <td>0.000000</td>\n",
              "      <td>0.000000</td>\n",
              "      <td>0.003161</td>\n",
              "      <td>0.015803</td>\n",
              "    </tr>\n",
              "  </tbody>\n",
              "</table>\n",
              "</div>"
            ],
            "text/plain": [
              "              speciesEN.x rehab       min    median      mean       max\n",
              "0       American Woodcock     N  0.000000  0.000826  0.000826  0.001652\n",
              "1       American Woodcock     Y  0.000000  0.002770  0.227406  0.794249\n",
              "2            Gray Catbird     N  0.007935  0.010133  0.013756  0.023200\n",
              "3            Gray Catbird     Y  0.000000  0.000000  0.004630  0.023149\n",
              "4        Magnolia Warbler     N       NaN       NaN       NaN       NaN\n",
              "5        Magnolia Warbler     Y  0.000000  0.010155  0.020430  0.061410\n",
              "6                Ovenbird     Y  0.000000  0.000183  0.011089  0.057604\n",
              "7  White-throated Sparrow     N  0.024477  0.024477  0.024477  0.024477\n",
              "8  White-throated Sparrow     Y  0.011320  0.011320  0.011320  0.011320\n",
              "9             Wood Thrush     Y  0.000000  0.000000  0.003161  0.015803"
            ]
          },
          "metadata": {
            "tags": []
          },
          "execution_count": 57
        }
      ]
    },
    {
      "cell_type": "code",
      "metadata": {
        "id": "0XLiwbHGIm_d",
        "colab_type": "code",
        "colab": {}
      },
      "source": [
        ""
      ],
      "execution_count": 0,
      "outputs": []
    }
  ]
}